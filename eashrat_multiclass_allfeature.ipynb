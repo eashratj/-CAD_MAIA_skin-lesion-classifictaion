{
  "nbformat": 4,
  "nbformat_minor": 0,
  "metadata": {
    "colab": {
      "provenance": [],
      "collapsed_sections": [],
      "include_colab_link": true
    },
    "kernelspec": {
      "name": "python3",
      "display_name": "Python 3"
    },
    "language_info": {
      "name": "python"
    }
  },
  "cells": [
    {
      "cell_type": "markdown",
      "metadata": {
        "id": "view-in-github",
        "colab_type": "text"
      },
      "source": [
        "<a href=\"https://colab.research.google.com/github/workwithjahan/-CAD_MAIA_skin-lesion-classifictaion/blob/main/eashrat_multiclass_allfeature.ipynb\" target=\"_parent\"><img src=\"https://colab.research.google.com/assets/colab-badge.svg\" alt=\"Open In Colab\"/></a>"
      ]
    },
    {
      "cell_type": "markdown",
      "source": [
        "**bold text** Color Histogram Multi class\n",
        "\n",
        "\n",
        "\n"
      ],
      "metadata": {
        "id": "uZZBnPHNLLVZ"
      }
    },
    {
      "cell_type": "markdown",
      "source": [
        "## Import Libraries"
      ],
      "metadata": {
        "id": "VEyKRvtkLVv6"
      }
    },
    {
      "cell_type": "code",
      "execution_count": 121,
      "metadata": {
        "id": "C6XWF4DqCFRw"
      },
      "outputs": [],
      "source": [
        "import numpy as np \n",
        "import matplotlib.pyplot as plt\n",
        "from google.colab import drive\n",
        "import glob\n",
        "import cv2\n",
        "import os\n",
        "import seaborn as sns\n",
        "import pandas as pd\n",
        "from skimage.filters import sobel\n",
        "from skimage.feature import greycomatrix, greycoprops\n",
        "from skimage.measure import shannon_entropy\n",
        "from sklearn.pipeline import Pipeline\n",
        "from sklearn.svm import SVC, LinearSVC\n",
        "from skimage.feature import local_binary_pattern\n",
        "from sklearn.ensemble import RandomForestClassifier\n",
        "from sklearn.neighbors import KNeighborsClassifier\n",
        "from sklearn.ensemble import AdaBoostClassifier\n",
        "from sklearn.preprocessing import LabelEncoder, StandardScaler, MinMaxScaler\n",
        "from sklearn import metrics\n",
        "from pathlib import Path\n",
        "import xgboost as xgb\n",
        "import lightgbm as lgb\n",
        "from PIL import Image, ImageOps\n",
        "from sklearn.model_selection import GridSearchCV, StratifiedKFold\n",
        "from sklearn.metrics import accuracy_score, auc, roc_curve, roc_auc_score, recall_score, confusion_matrix\n"
      ]
    },
    {
      "cell_type": "markdown",
      "source": [
        "## Load Data"
      ],
      "metadata": {
        "id": "6fxJw8o3LfvZ"
      }
    },
    {
      "cell_type": "code",
      "source": [
        "# This will prompt for authorization.\n",
        "drive.mount('/content/drive')\n",
        "# Define the root data directory\n",
        "DATA_DIR = \"/content/drive/MyDrive/dataset\""
      ],
      "metadata": {
        "id": "zLofRmUvfk6H",
        "outputId": "a6e5947d-620d-4450-af89-16f600786110",
        "colab": {
          "base_uri": "https://localhost:8080/"
        }
      },
      "execution_count": 4,
      "outputs": [
        {
          "output_type": "stream",
          "name": "stdout",
          "text": [
            "Mounted at /content/drive\n"
          ]
        }
      ]
    },
    {
      "cell_type": "code",
      "source": [
        "SIZE = 224"
      ],
      "metadata": {
        "id": "XxVgvMwHCrME"
      },
      "execution_count": 5,
      "outputs": []
    },
    {
      "cell_type": "code",
      "source": [
        "import os\n",
        "\n",
        "lst = os.listdir('/content/drive/MyDrive/dataset/hair_removed_9_kernel/train/bcc') # your directory path\n",
        "number_files = len(lst)\n",
        "print (number_files)"
      ],
      "metadata": {
        "id": "1PoM2IkMgdiJ",
        "outputId": "454e5726-5741-4f3a-95ca-3af1e1dd4a1f",
        "colab": {
          "base_uri": "https://localhost:8080/"
        }
      },
      "execution_count": 120,
      "outputs": [
        {
          "output_type": "stream",
          "name": "stdout",
          "text": [
            "1335\n"
          ]
        }
      ]
    },
    {
      "cell_type": "code",
      "source": [
        "def hist_features(img): \n",
        "  hist_blue = cv2.calcHist([img],[0],None,[256],[0,256]) #blue \n",
        "  hist_green = cv2.calcHist([img],[1],None,[256],[0,256]) \n",
        "  hist_red = cv2.calcHist([img],[2],None,[256],[0,256]) \n",
        "  hist=np.hstack([hist_green,hist_red,hist_blue]) \n",
        "  return hist.flatten()"
      ],
      "metadata": {
        "id": "oGuoxk8GIz_K"
      },
      "execution_count": 122,
      "outputs": []
    },
    {
      "cell_type": "code",
      "source": [
        "\n",
        "\n",
        "from skimage import io, exposure, morphology, filters, color, \\\n",
        "                    segmentation, feature, measure, img_as_float, img_as_ubyte"
      ],
      "metadata": {
        "id": "O2T3reCCpiex"
      },
      "execution_count": 60,
      "outputs": []
    },
    {
      "cell_type": "markdown",
      "source": [
        "LBP"
      ],
      "metadata": {
        "id": "ZKkF-JTuA4W8"
      }
    },
    {
      "cell_type": "code",
      "source": [
        "def compute_lbp(arr):\n",
        "  # LBP function params\n",
        "  radius = 3\n",
        "  n_points = 8 * radius\n",
        "  n_bins = n_points + 2\n",
        "  lbp = local_binary_pattern(arr,n_points,radius,'uniform')\n",
        "  lbp = lbp.ravel()\n",
        "  #feature_len = int(lbp.max() + 1)\n",
        "  feature = np.zeros(n_bins)\n",
        "  for i in lbp:\n",
        "    feature[int(i)] += 1 # Feature\n",
        "  feature /= np.linalg.norm(feature, ord=1) # Normalizing feature\n",
        "  return feature"
      ],
      "metadata": {
        "id": "LMC30n42p6zS"
      },
      "execution_count": 124,
      "outputs": []
    },
    {
      "cell_type": "code",
      "source": [
        "SIZE = 224\n",
        "train_images_lbp = []\n",
        "train_labels_lbp = [] \n",
        "train_hist=[]\n",
        "train_image_glcm=[]\n",
        "\n",
        "#for directory_path in glob.glob(\"cell_images/train/*\"):\n",
        "for directory_path in glob.glob(\"/content/drive/MyDrive/dataset/Multiclass/multi_train/*\"): \n",
        "    label_lbp_train = directory_path.split(\"/\")[-1]\n",
        "    print(label_lbp_train)\n",
        "    for img_path in glob.glob(os.path.join(directory_path, \"*.jpg\")):\n",
        "        #print(img_path)\n",
        "       # img1 = cv2.imread(img_path,0) #Reading color images\n",
        "        src = cv2.imread(os.path.join(img_path),0)\n",
        "      \n",
        "        imgv = cv2.cvtColor(src,cv2.COLOR_GRAY2BGR) #Reading color images\n",
        "        imgv1 = cv2.cvtColor(imgv,cv2.COLOR_BGR2HSV)\n",
        "        h, s, v = imgv1[:,:,0], imgv1[:,:,1], imgv1[:,:,2]\n",
        "        hist_h = imgv1[:,:,0]\n",
        "        img1 = cv2.resize(hist_h, (SIZE, SIZE)) #Resize images#glcm\n",
        "\n",
        "       # im2=cv2.cvtColor(src,cv2.COLOR_BGR2GRAY) \n",
        "        img2=cv2.resize(src, (SIZE, SIZE))\n",
        "        arr = np.array(img2) # convert the image to numpy array\n",
        "        #lbp\n",
        "        feature_train_lbp = compute_lbp(arr)\n",
        "        train_images_lbp.append(feature_train_lbp)\n",
        "        train_labels_lbp.append(label_lbp_train) #same label for glcm \n",
        "\n",
        "        #colorhist\n",
        "        #img3 = cv2.resize(img3, (SIZE, SIZE)) #Resize images\n",
        "        #fc=cv2.cvtColor(src, cv2.COLOR_GRAY2BGR )\n",
        "        img3=hist_features(imgv) #call the function\n",
        "        train_hist.append(img3)\n",
        "        #train_label_hist.append(labelhist)\n",
        "\n",
        "        #glcm\n",
        "        train_image_glcm.append(img1)\n",
        "        #train_label_glcm.append(label_glcm)\n",
        "        #n=n+1\n",
        "train_images_lbp =np.array(train_images_lbp)\n",
        "trait_labels_lbp =np.array(train_labels_lbp)#same label for glcm \n",
        "train_hist=np.array(train_hist)\n",
        "train_image_glcm=np.array(train_image_glcm)\n",
        "#train_label_hist=np.array(train_label_hist)"
      ],
      "metadata": {
        "id": "lj4nviQhAoeT",
        "outputId": "71f733c7-eac4-49be-f1b9-3ecf22315de8",
        "colab": {
          "base_uri": "https://localhost:8080/"
        }
      },
      "execution_count": 156,
      "outputs": [
        {
          "output_type": "stream",
          "name": "stdout",
          "text": [
            "mel\n",
            "bcc\n",
            "scc\n"
          ]
        }
      ]
    },
    {
      "cell_type": "markdown",
      "source": [
        "val all"
      ],
      "metadata": {
        "id": "1v4T_jJFBDAP"
      }
    },
    {
      "cell_type": "code",
      "source": [
        "\n",
        "test_images_lbp = []\n",
        "test_labels_lbp = [] \n",
        "test_hist=[]\n",
        "#glcm\n",
        "test_image_glcm=[]\n",
        "#for directory_path in glob.glob(\"cell_images/train/*\"):\n",
        "for directory_path in glob.glob(\"/content/drive/MyDrive/dataset/Multiclass/multi_val/*\"): \n",
        "    label_lbp_test = directory_path.split(\"/\")[-1]\n",
        "    #print(label_lbp_test)\n",
        "    for img_path in glob.glob(os.path.join(directory_path, \"*.jpg\")):\n",
        "        #print(img_path)\n",
        "        #img2 = cv2.imread(img_path,0) #Reading color images\n",
        "        #glcm\n",
        "        src2 = cv2.imread(os.path.join(img_path),0)\n",
        "        imgv1 = cv2.cvtColor(src2,cv2.COLOR_GRAY2BGR)\n",
        "        img13 = cv2.cvtColor(imgv1,cv2.COLOR_BGR2HSV) #Reading color images\n",
        "        h, s, v = img13[:,:,0], img13[:,:,1], img13[:,:,2]\n",
        "        hist_h2 =img13[:,:,0]\n",
        "        img2 = cv2.resize(hist_h2, (SIZE, SIZE))#glcm\n",
        "\n",
        "\n",
        "       # f2=cv2.medianBlur(dst2,5)\n",
        "        #Resize images\n",
        "        img8=img2 = cv2.resize(src2, (SIZE, SIZE))\n",
        "        arr = np.array(img8) # convert the image to numpy array\n",
        "        feature_test = compute_lbp(arr) #lbp\n",
        "        test_images_lbp.append(feature_test)\n",
        "        test_labels_lbp.append(label_lbp_test)\n",
        "        #colorhist\n",
        "\n",
        "        #f2c=cv2.cvtColor(f, cv2.COLOR_GRAY2BGR)\n",
        "        img4=hist_features(imgv1)\n",
        "        test_hist.append(img4)\n",
        "        #test_label_hist.append(labelhist_test)\n",
        "        test_image_glcm.append(img2)\n",
        "\n",
        "\n",
        "test_images_lbp =np.array(test_images_lbp)\n",
        "test_labels_lbp =np.array(test_labels_lbp)\n",
        "test_hist = np.array(test_hist)\n",
        "test_image_glcm =np.array(test_image_glcm)"
      ],
      "metadata": {
        "id": "u-QOj9ELwCdk"
      },
      "execution_count": 157,
      "outputs": []
    },
    {
      "cell_type": "markdown",
      "source": [
        "GLCM"
      ],
      "metadata": {
        "id": "Qy_f2hEq6Oqs"
      }
    },
    {
      "cell_type": "code",
      "source": [
        "def feature_extractor(dataset):\n",
        "  image_dataset  = pd.DataFrame()\n",
        "  distance = [11, 21]\n",
        "  angle = [0, np.pi/4, np.pi/2, 3*np.pi/4]\n",
        "  for image in range(dataset.shape[0]):\n",
        "    img = dataset[image]\n",
        "    df = pd.DataFrame()\n",
        "    count = 1\n",
        "    for dist in distance:\n",
        "      for ang in angle:\n",
        "        GLCM = greycomatrix(img, [dist], [ang])      \n",
        "        GLCM_Energy = greycoprops(GLCM, 'energy')[0]\n",
        "        df[f'Energy{count}'] = GLCM_Energy\n",
        "        GLCM_corr = greycoprops(GLCM, 'correlation')[0]\n",
        "        df[f'Corr{count}'] = GLCM_corr             \n",
        "        GLCM_hom = greycoprops(GLCM, 'homogeneity')[0]\n",
        "        df[f'Homogen{count}'] = GLCM_hom       \n",
        "        GLCM_contr = greycoprops(GLCM, 'contrast')[0]\n",
        "        df[f'Contrast{count}'] = GLCM_contr\n",
        "        count = count + 1\n",
        "    image_dataset = image_dataset.append(df)    \n",
        "  return image_dataset"
      ],
      "metadata": {
        "id": "FU5nt0g56N8N"
      },
      "execution_count": null,
      "outputs": []
    },
    {
      "cell_type": "code",
      "source": [
        "train_feature_glcm=feature_extractor(train_image_glcm)\n",
        "test_feature_glcm=feature_extractor(test_image_glcm)"
      ],
      "metadata": {
        "id": "vFASQMPkCAVJ"
      },
      "execution_count": null,
      "outputs": []
    },
    {
      "cell_type": "markdown",
      "source": [
        "## Label Encoding"
      ],
      "metadata": {
        "id": "CerVmwjfLvEs"
      }
    },
    {
      "cell_type": "code",
      "source": [
        "from sklearn import preprocessing\n",
        "le = preprocessing.LabelEncoder()\n",
        "le.fit(test_label_hist)\n",
        "test_labels_encoded = le.transform(test_label_hist)\n",
        "le.fit(train_label_hist)\n",
        "train_labels_encoded = le.transform(train_label_hist)"
      ],
      "metadata": {
        "id": "Nx-a7VFwrE3R"
      },
      "execution_count": 91,
      "outputs": []
    },
    {
      "cell_type": "code",
      "source": [
        "x_train, y_train, x_test, y_test = train_hist, train_labels_encoded, test_hist, test_labels_encoded"
      ],
      "metadata": {
        "id": "L5aVP0sVLJva"
      },
      "execution_count": 93,
      "outputs": []
    },
    {
      "cell_type": "code",
      "source": [
        "!pip install imblearn"
      ],
      "metadata": {
        "colab": {
          "base_uri": "https://localhost:8080/"
        },
        "id": "SmIduAqep55m",
        "outputId": "6068f541-b6f5-42fc-82f0-119e7d64122c"
      },
      "execution_count": 72,
      "outputs": [
        {
          "output_type": "stream",
          "name": "stdout",
          "text": [
            "Looking in indexes: https://pypi.org/simple, https://us-python.pkg.dev/colab-wheels/public/simple/\n",
            "Requirement already satisfied: imblearn in /usr/local/lib/python3.7/dist-packages (0.0)\n",
            "Requirement already satisfied: imbalanced-learn in /usr/local/lib/python3.7/dist-packages (from imblearn) (0.8.1)\n",
            "Requirement already satisfied: scikit-learn>=0.24 in /usr/local/lib/python3.7/dist-packages (from imbalanced-learn->imblearn) (1.0.2)\n",
            "Requirement already satisfied: joblib>=0.11 in /usr/local/lib/python3.7/dist-packages (from imbalanced-learn->imblearn) (1.2.0)\n",
            "Requirement already satisfied: numpy>=1.13.3 in /usr/local/lib/python3.7/dist-packages (from imbalanced-learn->imblearn) (1.21.6)\n",
            "Requirement already satisfied: scipy>=0.19.1 in /usr/local/lib/python3.7/dist-packages (from imbalanced-learn->imblearn) (1.7.3)\n",
            "Requirement already satisfied: threadpoolctl>=2.0.0 in /usr/local/lib/python3.7/dist-packages (from scikit-learn>=0.24->imbalanced-learn->imblearn) (3.1.0)\n"
          ]
        }
      ]
    },
    {
      "cell_type": "code",
      "source": [
        "from imblearn.over_sampling import RandomOverSampler\n",
        "from imblearn.under_sampling import RandomUnderSampler"
      ],
      "metadata": {
        "id": "FAfcFFm9p_Q8"
      },
      "execution_count": 94,
      "outputs": []
    },
    {
      "cell_type": "code",
      "source": [
        "over=RandomOverSampler(random_state=0,sampling_strategy='minority')\n",
        "X_res,Y_res=over.fit_resample(x_train,y_train)"
      ],
      "metadata": {
        "id": "T65A0HIxqDFd"
      },
      "execution_count": 95,
      "outputs": []
    },
    {
      "cell_type": "code",
      "source": [
        "print(sum(Y_res==0))"
      ],
      "metadata": {
        "colab": {
          "base_uri": "https://localhost:8080/"
        },
        "id": "B_OgRUl8rM4w",
        "outputId": "7056decc-ff8c-403d-f823-637829595449"
      },
      "execution_count": 96,
      "outputs": [
        {
          "output_type": "stream",
          "name": "stdout",
          "text": [
            "1993\n"
          ]
        }
      ]
    },
    {
      "cell_type": "code",
      "source": [
        "over=RandomOverSampler(random_state=0,sampling_strategy='minority')\n",
        "X_result,Y_result=over.fit_resample(X_res,Y_res)"
      ],
      "metadata": {
        "id": "LywaTOBvv0sF"
      },
      "execution_count": 97,
      "outputs": []
    },
    {
      "cell_type": "code",
      "source": [
        "print(sum(Y_result==1))"
      ],
      "metadata": {
        "colab": {
          "base_uri": "https://localhost:8080/"
        },
        "id": "ArLPdt2GwEHf",
        "outputId": "c222f429-69ed-4a0f-99ce-474e7f151b28"
      },
      "execution_count": 98,
      "outputs": [
        {
          "output_type": "stream",
          "name": "stdout",
          "text": [
            "2713\n"
          ]
        }
      ]
    },
    {
      "cell_type": "code",
      "source": [
        "print(sum(Y_result==0))"
      ],
      "metadata": {
        "id": "K5ZSIvT_l0Yc",
        "outputId": "5a602b86-2faa-4dec-b15f-ef289d8c1aca",
        "colab": {
          "base_uri": "https://localhost:8080/"
        }
      },
      "execution_count": 99,
      "outputs": [
        {
          "output_type": "stream",
          "name": "stdout",
          "text": [
            "2713\n"
          ]
        }
      ]
    },
    {
      "cell_type": "code",
      "source": [
        "print(sum(Y_result==2))"
      ],
      "metadata": {
        "id": "4TS32cmil2bh",
        "outputId": "58948581-1733-423c-f53a-0e46d84418c4",
        "colab": {
          "base_uri": "https://localhost:8080/"
        }
      },
      "execution_count": 100,
      "outputs": [
        {
          "output_type": "stream",
          "name": "stdout",
          "text": [
            "2713\n"
          ]
        }
      ]
    },
    {
      "cell_type": "markdown",
      "source": [
        "## SVM"
      ],
      "metadata": {
        "id": "mRt5SBmbMCBH"
      }
    },
    {
      "cell_type": "code",
      "source": [
        "pipe1 = Pipeline([\n",
        "                 (\"scale\", StandardScaler()),\n",
        "                 (\"classifier\", SVC(class_weight='balanced', probability=True, kernel= 'rbf', gamma=0.01, C=100)) #radial basis function kernel\n",
        "                 ])"
      ],
      "metadata": {
        "id": "8NeblTA2AdM3"
      },
      "execution_count": 101,
      "outputs": []
    },
    {
      "cell_type": "code",
      "source": [
        "pipe1.fit(X_result,Y_result)"
      ],
      "metadata": {
        "colab": {
          "base_uri": "https://localhost:8080/"
        },
        "id": "jt-exYkgAeb4",
        "outputId": "468ffa25-7678-48cc-c833-f7a3a94d19fd"
      },
      "execution_count": 103,
      "outputs": [
        {
          "output_type": "execute_result",
          "data": {
            "text/plain": [
              "Pipeline(steps=[('scale', StandardScaler()),\n",
              "                ('classifier',\n",
              "                 SVC(C=100, class_weight='balanced', gamma=0.01,\n",
              "                     probability=True))])"
            ]
          },
          "metadata": {},
          "execution_count": 103
        }
      ]
    },
    {
      "cell_type": "code",
      "source": [
        "# Test set evaluation\n",
        "prediction = pipe1.predict(x_test)\n",
        "# Visualization\n",
        "cmat = metrics.confusion_matrix(prediction,test_labels_encoded)\n",
        "s = sns.heatmap(cmat,annot=True,xticklabels=label, yticklabels=label)\n",
        "s.set(xlabel='Predicted', ylabel='Actual')\n",
        "acc = cmat.trace() / cmat.sum()\n",
        "print('Accuracy: {0:5.2f}%'.format(acc*100))"
      ],
      "metadata": {
        "colab": {
          "base_uri": "https://localhost:8080/",
          "height": 297
        },
        "id": "_Ycj94-_CCiT",
        "outputId": "222422d4-3642-41d2-b5b4-7cfae91d94c3"
      },
      "execution_count": 104,
      "outputs": [
        {
          "output_type": "stream",
          "name": "stdout",
          "text": [
            "Accuracy: 53.31%\n"
          ]
        },
        {
          "output_type": "display_data",
          "data": {
            "text/plain": [
              "<Figure size 432x288 with 2 Axes>"
            ],
            "image/png": "[encoded data removed]"
          },
          "metadata": {
            "needs_background": "light"
          }
        }
      ]
    },
    {
      "cell_type": "code",
      "source": [
        "from sklearn.metrics import cohen_kappa_score\n",
        "kappa = cohen_kappa_score(prediction, test_labels_encoded)\n",
        "print(kappa)"
      ],
      "metadata": {
        "colab": {
          "base_uri": "https://localhost:8080/"
        },
        "id": "JnB-T1Vk7qw8",
        "outputId": "31849a8b-4e64-4006-d56b-b4d22ae8d6d3"
      },
      "execution_count": 105,
      "outputs": [
        {
          "output_type": "stream",
          "name": "stdout",
          "text": [
            "-0.0014494295364484433\n"
          ]
        }
      ]
    },
    {
      "cell_type": "markdown",
      "source": [
        "## Random Forest"
      ],
      "metadata": {
        "id": "0hRhX6FrMG3L"
      }
    },
    {
      "cell_type": "code",
      "source": [
        "pipe2 = Pipeline([\n",
        "                 (\"scale\", StandardScaler()),\n",
        "                 (\"classifier\", RandomForestClassifier(n_estimators = 400, random_state = 42))\n",
        "                 ])"
      ],
      "metadata": {
        "id": "KX2wmJx8DZrO"
      },
      "execution_count": 106,
      "outputs": []
    },
    {
      "cell_type": "code",
      "source": [
        "pipe2.fit(X_result,Y_result)"
      ],
      "metadata": {
        "colab": {
          "base_uri": "https://localhost:8080/"
        },
        "id": "s9Ho7JfnDi5W",
        "outputId": "d3e5de39-5330-4b6f-c4a4-8a69e07ad8ab"
      },
      "execution_count": 107,
      "outputs": [
        {
          "output_type": "execute_result",
          "data": {
            "text/plain": [
              "Pipeline(steps=[('scale', StandardScaler()),\n",
              "                ('classifier',\n",
              "                 RandomForestClassifier(n_estimators=400, random_state=42))])"
            ]
          },
          "metadata": {},
          "execution_count": 107
        }
      ]
    },
    {
      "cell_type": "code",
      "source": [
        "# Test set evaluation\n",
        "prediction = pipe2.predict(x_test)\n",
        "# Visualization\n",
        "cmat = metrics.confusion_matrix(prediction,test_labels_encoded)\n",
        "s = sns.heatmap(cmat,annot=True,xticklabels=label, yticklabels=label)\n",
        "s.set(xlabel='Predicted', ylabel='Actual')\n",
        "acc = cmat.trace() / cmat.sum()\n",
        "print('Accuracy: {0:5.2f}%'.format(acc*100))"
      ],
      "metadata": {
        "colab": {
          "base_uri": "https://localhost:8080/",
          "height": 297
        },
        "id": "cz3LJigzDnda",
        "outputId": "82004f85-753a-4bf0-88f7-fd5f53703ca2"
      },
      "execution_count": 108,
      "outputs": [
        {
          "output_type": "stream",
          "name": "stdout",
          "text": [
            "Accuracy: 51.42%\n"
          ]
        },
        {
          "output_type": "display_data",
          "data": {
            "text/plain": [
              "<Figure size 432x288 with 2 Axes>"
            ],
            "image/png": "[encoded data removed]"
          },
          "metadata": {
            "needs_background": "light"
          }
        }
      ]
    },
    {
      "cell_type": "code",
      "source": [
        "kappa = cohen_kappa_score(prediction, test_labels_encoded)\n",
        "print(kappa)"
      ],
      "metadata": {
        "colab": {
          "base_uri": "https://localhost:8080/"
        },
        "id": "AR0awIlR-hCR",
        "outputId": "5a6ad59b-a5b5-42db-e212-0f55543352b1"
      },
      "execution_count": 109,
      "outputs": [
        {
          "output_type": "stream",
          "name": "stdout",
          "text": [
            "0.029778118963894817\n"
          ]
        }
      ]
    },
    {
      "cell_type": "markdown",
      "source": [
        "## KNN"
      ],
      "metadata": {
        "id": "QxrLlQ3uMPr4"
      }
    },
    {
      "cell_type": "code",
      "source": [
        "pipe3 = Pipeline([\n",
        "                 (\"scale\",StandardScaler()),\n",
        "                 (\"classifier\", KNeighborsClassifier(n_neighbors=7))\n",
        "                 ])"
      ],
      "metadata": {
        "id": "XBC_zxYbEj4M"
      },
      "execution_count": 110,
      "outputs": []
    },
    {
      "cell_type": "code",
      "source": [
        "pipe3.fit(X_result,Y_result)"
      ],
      "metadata": {
        "colab": {
          "base_uri": "https://localhost:8080/"
        },
        "id": "fX78m5oMEeIF",
        "outputId": "6f6d4765-74c4-4f11-f575-049f24f0468a"
      },
      "execution_count": 111,
      "outputs": [
        {
          "output_type": "execute_result",
          "data": {
            "text/plain": [
              "Pipeline(steps=[('scale', StandardScaler()),\n",
              "                ('classifier', KNeighborsClassifier(n_neighbors=7))])"
            ]
          },
          "metadata": {},
          "execution_count": 111
        }
      ]
    },
    {
      "cell_type": "code",
      "source": [
        "# Test set evaluation\n",
        "prediction = pipe3.predict(x_test)\n",
        "# Visualization\n",
        "cmat = metrics.confusion_matrix(prediction,test_labels_encoded)\n",
        "s = sns.heatmap(cmat,annot=True,xticklabels=label, yticklabels=label)\n",
        "s.set(xlabel='Predicted', ylabel='Actual')\n",
        "acc = cmat.trace() / cmat.sum()\n",
        "print('Accuracy: {0:5.2f}%'.format(acc*100))"
      ],
      "metadata": {
        "colab": {
          "base_uri": "https://localhost:8080/",
          "height": 297
        },
        "id": "LAhKGaG4Eyoh",
        "outputId": "6c6a9416-ea2e-4854-99e1-f37ad187567b"
      },
      "execution_count": 112,
      "outputs": [
        {
          "output_type": "stream",
          "name": "stdout",
          "text": [
            "Accuracy: 42.91%\n"
          ]
        },
        {
          "output_type": "display_data",
          "data": {
            "text/plain": [
              "<Figure size 432x288 with 2 Axes>"
            ],
            "image/png": "[encoded data removed]"
          },
          "metadata": {
            "needs_background": "light"
          }
        }
      ]
    },
    {
      "cell_type": "code",
      "source": [
        "kappa = cohen_kappa_score(prediction, test_labels_encoded)\n",
        "print(kappa)"
      ],
      "metadata": {
        "colab": {
          "base_uri": "https://localhost:8080/"
        },
        "id": "CjjqFKYb_IKT",
        "outputId": "ef5b22f4-804e-4422-cfd5-bc059f119e43"
      },
      "execution_count": 113,
      "outputs": [
        {
          "output_type": "stream",
          "name": "stdout",
          "text": [
            "0.09879179863832654\n"
          ]
        }
      ]
    },
    {
      "cell_type": "markdown",
      "source": [
        "## AdaBoost"
      ],
      "metadata": {
        "id": "lWYVd2MoMW7f"
      }
    },
    {
      "cell_type": "code",
      "source": [
        "clf = AdaBoostClassifier(n_estimators=200, random_state=0)\n",
        "clf.fit(X_result,Y_result)"
      ],
      "metadata": {
        "colab": {
          "base_uri": "https://localhost:8080/"
        },
        "id": "z8HWAHCWFBT6",
        "outputId": "3360fced-4190-4f32-f2a7-0047ee6fea87"
      },
      "execution_count": 114,
      "outputs": [
        {
          "output_type": "execute_result",
          "data": {
            "text/plain": [
              "AdaBoostClassifier(n_estimators=200, random_state=0)"
            ]
          },
          "metadata": {},
          "execution_count": 114
        }
      ]
    },
    {
      "cell_type": "code",
      "source": [
        "# Test set evaluation\n",
        "prediction = clf.predict(x_test)\n",
        "# Visualization\n",
        "cmat = confusion_matrix(prediction,test_labels_encoded)\n",
        "s = sns.heatmap(cmat,annot=True,xticklabels=label, yticklabels=label)\n",
        "s.set(xlabel='Predicted', ylabel='Actual')\n",
        "acc = cmat.trace() / cmat.sum()\n",
        "print('Accuracy: {0:5.2f}%'.format(acc*100))"
      ],
      "metadata": {
        "colab": {
          "base_uri": "https://localhost:8080/",
          "height": 297
        },
        "id": "dHSeEpDxFOxA",
        "outputId": "e609a8a0-5203-4a85-ff4b-4928e923c4ea"
      },
      "execution_count": 51,
      "outputs": [
        {
          "output_type": "stream",
          "name": "stdout",
          "text": [
            "Accuracy: 65.67%\n"
          ]
        },
        {
          "output_type": "display_data",
          "data": {
            "text/plain": [
              "<Figure size 432x288 with 2 Axes>"
            ],
            "image/png": "[encoded data removed]"
          },
          "metadata": {
            "needs_background": "light"
          }
        }
      ]
    },
    {
      "cell_type": "code",
      "source": [
        "kappa = cohen_kappa_score(prediction, test_labels_encoded)\n",
        "print(kappa)"
      ],
      "metadata": {
        "colab": {
          "base_uri": "https://localhost:8080/"
        },
        "id": "sl1PpGK7_aqT",
        "outputId": "e7cb59d1-cafc-4bd9-d86c-2f4cb56a5e47"
      },
      "execution_count": 52,
      "outputs": [
        {
          "output_type": "stream",
          "name": "stdout",
          "text": [
            "0.4031903427462815\n"
          ]
        }
      ]
    },
    {
      "cell_type": "markdown",
      "source": [
        "## XGB"
      ],
      "metadata": {
        "id": "QfIx7G5NMdo7"
      }
    },
    {
      "cell_type": "code",
      "source": [
        "mod1 = xgb.XGBClassifier(booster='dart',learning_rate=0.1,objective='multi:softmax')\n",
        "train_arr = np.array(X_result)\n",
        "test_arr = np.array(Y_result)\n",
        "mod1.fit(train_arr, test_arr)"
      ],
      "metadata": {
        "colab": {
          "base_uri": "https://localhost:8080/"
        },
        "id": "X6l_-aSAGbrJ",
        "outputId": "2f217b1e-3617-4839-91be-502b93463ed5"
      },
      "execution_count": 53,
      "outputs": [
        {
          "output_type": "execute_result",
          "data": {
            "text/plain": [
              "XGBClassifier(booster='dart', objective='multi:softprob')"
            ]
          },
          "metadata": {},
          "execution_count": 53
        }
      ]
    },
    {
      "cell_type": "code",
      "source": [
        "prediction = mod1.predict(x_test)\n",
        "print(\"Accuracy = \", accuracy_score(test_labels_encoded, prediction))"
      ],
      "metadata": {
        "colab": {
          "base_uri": "https://localhost:8080/"
        },
        "id": "haEaOdTlH2YX",
        "outputId": "e69e7838-6b37-4279-f0b4-8c7cd4b7c294"
      },
      "execution_count": 54,
      "outputs": [
        {
          "output_type": "stream",
          "name": "stdout",
          "text": [
            "Accuracy =  0.6897637795275591\n"
          ]
        }
      ]
    },
    {
      "cell_type": "code",
      "source": [
        "cm = confusion_matrix(test_labels_encoded, prediction)\n",
        "sns.heatmap(cm, annot=True)"
      ],
      "metadata": {
        "colab": {
          "base_uri": "https://localhost:8080/",
          "height": 283
        },
        "id": "tN55xdyAISLT",
        "outputId": "662f4cb1-6dcd-4743-e5f5-e2fff58ed6dc"
      },
      "execution_count": 55,
      "outputs": [
        {
          "output_type": "execute_result",
          "data": {
            "text/plain": [
              "<matplotlib.axes._subplots.AxesSubplot at 0x7f35a4f271d0>"
            ]
          },
          "metadata": {},
          "execution_count": 55
        },
        {
          "output_type": "display_data",
          "data": {
            "text/plain": [
              "<Figure size 432x288 with 2 Axes>"
            ],
            "image/png": "[encoded data removed]"
          },
          "metadata": {
            "needs_background": "light"
          }
        }
      ]
    },
    {
      "cell_type": "code",
      "source": [
        "kappa = cohen_kappa_score(prediction, test_labels_encoded)\n",
        "print(kappa)"
      ],
      "metadata": {
        "colab": {
          "base_uri": "https://localhost:8080/"
        },
        "id": "nJ7hNmo0Brm7",
        "outputId": "4f0d6f9f-74a9-4c3f-abe3-c57efd9343de"
      },
      "execution_count": 56,
      "outputs": [
        {
          "output_type": "stream",
          "name": "stdout",
          "text": [
            "0.46684368220738093\n"
          ]
        }
      ]
    },
    {
      "cell_type": "code",
      "source": [
        "skf = StratifiedKFold(n_splits = 5)"
      ],
      "metadata": {
        "id": "8b7SqgzuzmfO"
      },
      "execution_count": 57,
      "outputs": []
    },
    {
      "cell_type": "code",
      "source": [
        "# Defining a dictionary\n",
        "model_params = {\n",
        "    'svm': {\n",
        "        'model': SVC(gamma='auto'),\n",
        "        'params' : {\n",
        "            'C': [0.1, 1, 5, 10, 100], #Regularization parameter.\n",
        "            'kernel': ['rbf','linear','sigmoid','poly'], \n",
        "            'gamma':[0.00001,0.0001,0.001,0.01,0.1,1]\n",
        "        }  \n",
        "    },\n",
        "    'random_forest': {\n",
        "        'model': RandomForestClassifier(),\n",
        "        'params' : {\n",
        "            'n_estimators': [30,50,70,100] #Trees: may lead to overfitting if n_estimators is too much\n",
        "        }\n",
        "    },\n",
        "    'KNN' : {\n",
        "        'model': KNeighborsClassifier(),\n",
        "        'params': {\n",
        "            'n_neighbors': [1, 5, 9, 15, 19, 23, 27, 31, 35, 39]\n",
        "        }\n",
        "    }\n",
        "}"
      ],
      "metadata": {
        "id": "eBtuCxPZztYB"
      },
      "execution_count": 58,
      "outputs": []
    },
    {
      "cell_type": "code",
      "source": [
        "scores = []\n",
        "\n",
        "for model_name, mp in model_params.items():\n",
        "    grid =  GridSearchCV(estimator=mp['model'], \n",
        "                         param_grid=mp['params'], \n",
        "                         cv=skf, n_jobs=6, #five fold cross validation\n",
        "                         return_train_score=False)\n",
        "    \n",
        "    grid.fit(X_result,Y_result)\n",
        "    \n",
        "    scores.append({\n",
        "        'model': model_name,\n",
        "        'best_score': grid.best_score_,\n",
        "        'best_params': grid.best_params_\n",
        "    })\n",
        "\n",
        "df = pd.DataFrame(scores,columns=['model','best_score','best_params'])\n",
        "\n",
        "print(df)"
      ],
      "metadata": {
        "colab": {
          "base_uri": "https://localhost:8080/",
          "height": 399
        },
        "id": "qgYYVxv9zw5b",
        "outputId": "9c94390c-85bb-40bc-dc16-1362d8250efd"
      },
      "execution_count": 59,
      "outputs": [
        {
          "output_type": "error",
          "ename": "KeyboardInterrupt",
          "evalue": "ignored",
          "traceback": [
            "\u001b[0;31m---------------------------------------------------------------------------\u001b[0m",
            "\u001b[0;31mKeyboardInterrupt\u001b[0m                         Traceback (most recent call last)",
            "\u001b[0;32m<ipython-input-59-f6355ba95bfb>\u001b[0m in \u001b[0;36m<module>\u001b[0;34m\u001b[0m\n\u001b[1;32m      7\u001b[0m                          return_train_score=False)\n\u001b[1;32m      8\u001b[0m \u001b[0;34m\u001b[0m\u001b[0m\n\u001b[0;32m----> 9\u001b[0;31m     \u001b[0mgrid\u001b[0m\u001b[0;34m.\u001b[0m\u001b[0mfit\u001b[0m\u001b[0;34m(\u001b[0m\u001b[0mX_result\u001b[0m\u001b[0;34m,\u001b[0m\u001b[0mY_result\u001b[0m\u001b[0;34m)\u001b[0m\u001b[0;34m\u001b[0m\u001b[0;34m\u001b[0m\u001b[0m\n\u001b[0m\u001b[1;32m     10\u001b[0m \u001b[0;34m\u001b[0m\u001b[0m\n\u001b[1;32m     11\u001b[0m     scores.append({\n",
            "\u001b[0;32m/usr/local/lib/python3.7/dist-packages/sklearn/model_selection/_search.py\u001b[0m in \u001b[0;36mfit\u001b[0;34m(self, X, y, groups, **fit_params)\u001b[0m\n\u001b[1;32m    889\u001b[0m                 \u001b[0;32mreturn\u001b[0m \u001b[0mresults\u001b[0m\u001b[0;34m\u001b[0m\u001b[0;34m\u001b[0m\u001b[0m\n\u001b[1;32m    890\u001b[0m \u001b[0;34m\u001b[0m\u001b[0m\n\u001b[0;32m--> 891\u001b[0;31m             \u001b[0mself\u001b[0m\u001b[0;34m.\u001b[0m\u001b[0m_run_search\u001b[0m\u001b[0;34m(\u001b[0m\u001b[0mevaluate_candidates\u001b[0m\u001b[0;34m)\u001b[0m\u001b[0;34m\u001b[0m\u001b[0;34m\u001b[0m\u001b[0m\n\u001b[0m\u001b[1;32m    892\u001b[0m \u001b[0;34m\u001b[0m\u001b[0m\n\u001b[1;32m    893\u001b[0m             \u001b[0;31m# multimetric is determined here because in the case of a callable\u001b[0m\u001b[0;34m\u001b[0m\u001b[0;34m\u001b[0m\u001b[0;34m\u001b[0m\u001b[0m\n",
            "\u001b[0;32m/usr/local/lib/python3.7/dist-packages/sklearn/model_selection/_search.py\u001b[0m in \u001b[0;36m_run_search\u001b[0;34m(self, evaluate_candidates)\u001b[0m\n\u001b[1;32m   1390\u001b[0m     \u001b[0;32mdef\u001b[0m \u001b[0m_run_search\u001b[0m\u001b[0;34m(\u001b[0m\u001b[0mself\u001b[0m\u001b[0;34m,\u001b[0m \u001b[0mevaluate_candidates\u001b[0m\u001b[0;34m)\u001b[0m\u001b[0;34m:\u001b[0m\u001b[0;34m\u001b[0m\u001b[0;34m\u001b[0m\u001b[0m\n\u001b[1;32m   1391\u001b[0m         \u001b[0;34m\"\"\"Search all candidates in param_grid\"\"\"\u001b[0m\u001b[0;34m\u001b[0m\u001b[0;34m\u001b[0m\u001b[0m\n\u001b[0;32m-> 1392\u001b[0;31m         \u001b[0mevaluate_candidates\u001b[0m\u001b[0;34m(\u001b[0m\u001b[0mParameterGrid\u001b[0m\u001b[0;34m(\u001b[0m\u001b[0mself\u001b[0m\u001b[0;34m.\u001b[0m\u001b[0mparam_grid\u001b[0m\u001b[0;34m)\u001b[0m\u001b[0;34m)\u001b[0m\u001b[0;34m\u001b[0m\u001b[0;34m\u001b[0m\u001b[0m\n\u001b[0m\u001b[1;32m   1393\u001b[0m \u001b[0;34m\u001b[0m\u001b[0m\n\u001b[1;32m   1394\u001b[0m \u001b[0;34m\u001b[0m\u001b[0m\n",
            "\u001b[0;32m/usr/local/lib/python3.7/dist-packages/sklearn/model_selection/_search.py\u001b[0m in \u001b[0;36mevaluate_candidates\u001b[0;34m(candidate_params, cv, more_results)\u001b[0m\n\u001b[1;32m    849\u001b[0m                     )\n\u001b[1;32m    850\u001b[0m                     for (cand_idx, parameters), (split_idx, (train, test)) in product(\n\u001b[0;32m--> 851\u001b[0;31m                         \u001b[0menumerate\u001b[0m\u001b[0;34m(\u001b[0m\u001b[0mcandidate_params\u001b[0m\u001b[0;34m)\u001b[0m\u001b[0;34m,\u001b[0m \u001b[0menumerate\u001b[0m\u001b[0;34m(\u001b[0m\u001b[0mcv\u001b[0m\u001b[0;34m.\u001b[0m\u001b[0msplit\u001b[0m\u001b[0;34m(\u001b[0m\u001b[0mX\u001b[0m\u001b[0;34m,\u001b[0m \u001b[0my\u001b[0m\u001b[0;34m,\u001b[0m \u001b[0mgroups\u001b[0m\u001b[0;34m)\u001b[0m\u001b[0;34m)\u001b[0m\u001b[0;34m\u001b[0m\u001b[0;34m\u001b[0m\u001b[0m\n\u001b[0m\u001b[1;32m    852\u001b[0m                     )\n\u001b[1;32m    853\u001b[0m                 )\n",
            "\u001b[0;32m/usr/local/lib/python3.7/dist-packages/joblib/parallel.py\u001b[0m in \u001b[0;36m__call__\u001b[0;34m(self, iterable)\u001b[0m\n\u001b[1;32m   1096\u001b[0m \u001b[0;34m\u001b[0m\u001b[0m\n\u001b[1;32m   1097\u001b[0m             \u001b[0;32mwith\u001b[0m \u001b[0mself\u001b[0m\u001b[0;34m.\u001b[0m\u001b[0m_backend\u001b[0m\u001b[0;34m.\u001b[0m\u001b[0mretrieval_context\u001b[0m\u001b[0;34m(\u001b[0m\u001b[0;34m)\u001b[0m\u001b[0;34m:\u001b[0m\u001b[0;34m\u001b[0m\u001b[0;34m\u001b[0m\u001b[0m\n\u001b[0;32m-> 1098\u001b[0;31m                 \u001b[0mself\u001b[0m\u001b[0;34m.\u001b[0m\u001b[0mretrieve\u001b[0m\u001b[0;34m(\u001b[0m\u001b[0;34m)\u001b[0m\u001b[0;34m\u001b[0m\u001b[0;34m\u001b[0m\u001b[0m\n\u001b[0m\u001b[1;32m   1099\u001b[0m             \u001b[0;31m# Make sure that we get a last message telling us we are done\u001b[0m\u001b[0;34m\u001b[0m\u001b[0;34m\u001b[0m\u001b[0;34m\u001b[0m\u001b[0m\n\u001b[1;32m   1100\u001b[0m             \u001b[0melapsed_time\u001b[0m \u001b[0;34m=\u001b[0m \u001b[0mtime\u001b[0m\u001b[0;34m.\u001b[0m\u001b[0mtime\u001b[0m\u001b[0;34m(\u001b[0m\u001b[0;34m)\u001b[0m \u001b[0;34m-\u001b[0m \u001b[0mself\u001b[0m\u001b[0;34m.\u001b[0m\u001b[0m_start_time\u001b[0m\u001b[0;34m\u001b[0m\u001b[0;34m\u001b[0m\u001b[0m\n",
            "\u001b[0;32m/usr/local/lib/python3.7/dist-packages/joblib/parallel.py\u001b[0m in \u001b[0;36mretrieve\u001b[0;34m(self)\u001b[0m\n\u001b[1;32m    973\u001b[0m             \u001b[0;32mtry\u001b[0m\u001b[0;34m:\u001b[0m\u001b[0;34m\u001b[0m\u001b[0;34m\u001b[0m\u001b[0m\n\u001b[1;32m    974\u001b[0m                 \u001b[0;32mif\u001b[0m \u001b[0mgetattr\u001b[0m\u001b[0;34m(\u001b[0m\u001b[0mself\u001b[0m\u001b[0;34m.\u001b[0m\u001b[0m_backend\u001b[0m\u001b[0;34m,\u001b[0m \u001b[0;34m'supports_timeout'\u001b[0m\u001b[0;34m,\u001b[0m \u001b[0;32mFalse\u001b[0m\u001b[0;34m)\u001b[0m\u001b[0;34m:\u001b[0m\u001b[0;34m\u001b[0m\u001b[0;34m\u001b[0m\u001b[0m\n\u001b[0;32m--> 975\u001b[0;31m                     \u001b[0mself\u001b[0m\u001b[0;34m.\u001b[0m\u001b[0m_output\u001b[0m\u001b[0;34m.\u001b[0m\u001b[0mextend\u001b[0m\u001b[0;34m(\u001b[0m\u001b[0mjob\u001b[0m\u001b[0;34m.\u001b[0m\u001b[0mget\u001b[0m\u001b[0;34m(\u001b[0m\u001b[0mtimeout\u001b[0m\u001b[0;34m=\u001b[0m\u001b[0mself\u001b[0m\u001b[0;34m.\u001b[0m\u001b[0mtimeout\u001b[0m\u001b[0;34m)\u001b[0m\u001b[0;34m)\u001b[0m\u001b[0;34m\u001b[0m\u001b[0;34m\u001b[0m\u001b[0m\n\u001b[0m\u001b[1;32m    976\u001b[0m                 \u001b[0;32melse\u001b[0m\u001b[0;34m:\u001b[0m\u001b[0;34m\u001b[0m\u001b[0;34m\u001b[0m\u001b[0m\n\u001b[1;32m    977\u001b[0m                     \u001b[0mself\u001b[0m\u001b[0;34m.\u001b[0m\u001b[0m_output\u001b[0m\u001b[0;34m.\u001b[0m\u001b[0mextend\u001b[0m\u001b[0;34m(\u001b[0m\u001b[0mjob\u001b[0m\u001b[0;34m.\u001b[0m\u001b[0mget\u001b[0m\u001b[0;34m(\u001b[0m\u001b[0;34m)\u001b[0m\u001b[0;34m)\u001b[0m\u001b[0;34m\u001b[0m\u001b[0;34m\u001b[0m\u001b[0m\n",
            "\u001b[0;32m/usr/local/lib/python3.7/dist-packages/joblib/_parallel_backends.py\u001b[0m in \u001b[0;36mwrap_future_result\u001b[0;34m(future, timeout)\u001b[0m\n\u001b[1;32m    565\u001b[0m         AsyncResults.get from multiprocessing.\"\"\"\n\u001b[1;32m    566\u001b[0m         \u001b[0;32mtry\u001b[0m\u001b[0;34m:\u001b[0m\u001b[0;34m\u001b[0m\u001b[0;34m\u001b[0m\u001b[0m\n\u001b[0;32m--> 567\u001b[0;31m             \u001b[0;32mreturn\u001b[0m \u001b[0mfuture\u001b[0m\u001b[0;34m.\u001b[0m\u001b[0mresult\u001b[0m\u001b[0;34m(\u001b[0m\u001b[0mtimeout\u001b[0m\u001b[0;34m=\u001b[0m\u001b[0mtimeout\u001b[0m\u001b[0;34m)\u001b[0m\u001b[0;34m\u001b[0m\u001b[0;34m\u001b[0m\u001b[0m\n\u001b[0m\u001b[1;32m    568\u001b[0m         \u001b[0;32mexcept\u001b[0m \u001b[0mCfTimeoutError\u001b[0m \u001b[0;32mas\u001b[0m \u001b[0me\u001b[0m\u001b[0;34m:\u001b[0m\u001b[0;34m\u001b[0m\u001b[0;34m\u001b[0m\u001b[0m\n\u001b[1;32m    569\u001b[0m             \u001b[0;32mraise\u001b[0m \u001b[0mTimeoutError\u001b[0m \u001b[0;32mfrom\u001b[0m \u001b[0me\u001b[0m\u001b[0;34m\u001b[0m\u001b[0;34m\u001b[0m\u001b[0m\n",
            "\u001b[0;32m/usr/lib/python3.7/concurrent/futures/_base.py\u001b[0m in \u001b[0;36mresult\u001b[0;34m(self, timeout)\u001b[0m\n\u001b[1;32m    428\u001b[0m                 \u001b[0;32mreturn\u001b[0m \u001b[0mself\u001b[0m\u001b[0;34m.\u001b[0m\u001b[0m__get_result\u001b[0m\u001b[0;34m(\u001b[0m\u001b[0;34m)\u001b[0m\u001b[0;34m\u001b[0m\u001b[0;34m\u001b[0m\u001b[0m\n\u001b[1;32m    429\u001b[0m \u001b[0;34m\u001b[0m\u001b[0m\n\u001b[0;32m--> 430\u001b[0;31m             \u001b[0mself\u001b[0m\u001b[0;34m.\u001b[0m\u001b[0m_condition\u001b[0m\u001b[0;34m.\u001b[0m\u001b[0mwait\u001b[0m\u001b[0;34m(\u001b[0m\u001b[0mtimeout\u001b[0m\u001b[0;34m)\u001b[0m\u001b[0;34m\u001b[0m\u001b[0;34m\u001b[0m\u001b[0m\n\u001b[0m\u001b[1;32m    431\u001b[0m \u001b[0;34m\u001b[0m\u001b[0m\n\u001b[1;32m    432\u001b[0m             \u001b[0;32mif\u001b[0m \u001b[0mself\u001b[0m\u001b[0;34m.\u001b[0m\u001b[0m_state\u001b[0m \u001b[0;32min\u001b[0m \u001b[0;34m[\u001b[0m\u001b[0mCANCELLED\u001b[0m\u001b[0;34m,\u001b[0m \u001b[0mCANCELLED_AND_NOTIFIED\u001b[0m\u001b[0;34m]\u001b[0m\u001b[0;34m:\u001b[0m\u001b[0;34m\u001b[0m\u001b[0;34m\u001b[0m\u001b[0m\n",
            "\u001b[0;32m/usr/lib/python3.7/threading.py\u001b[0m in \u001b[0;36mwait\u001b[0;34m(self, timeout)\u001b[0m\n\u001b[1;32m    294\u001b[0m         \u001b[0;32mtry\u001b[0m\u001b[0;34m:\u001b[0m    \u001b[0;31m# restore state no matter what (e.g., KeyboardInterrupt)\u001b[0m\u001b[0;34m\u001b[0m\u001b[0;34m\u001b[0m\u001b[0m\n\u001b[1;32m    295\u001b[0m             \u001b[0;32mif\u001b[0m \u001b[0mtimeout\u001b[0m \u001b[0;32mis\u001b[0m \u001b[0;32mNone\u001b[0m\u001b[0;34m:\u001b[0m\u001b[0;34m\u001b[0m\u001b[0;34m\u001b[0m\u001b[0m\n\u001b[0;32m--> 296\u001b[0;31m                 \u001b[0mwaiter\u001b[0m\u001b[0;34m.\u001b[0m\u001b[0macquire\u001b[0m\u001b[0;34m(\u001b[0m\u001b[0;34m)\u001b[0m\u001b[0;34m\u001b[0m\u001b[0;34m\u001b[0m\u001b[0m\n\u001b[0m\u001b[1;32m    297\u001b[0m                 \u001b[0mgotit\u001b[0m \u001b[0;34m=\u001b[0m \u001b[0;32mTrue\u001b[0m\u001b[0;34m\u001b[0m\u001b[0;34m\u001b[0m\u001b[0m\n\u001b[1;32m    298\u001b[0m             \u001b[0;32melse\u001b[0m\u001b[0;34m:\u001b[0m\u001b[0;34m\u001b[0m\u001b[0;34m\u001b[0m\u001b[0m\n",
            "\u001b[0;31mKeyboardInterrupt\u001b[0m: "
          ]
        }
      ]
    }
  ]
}