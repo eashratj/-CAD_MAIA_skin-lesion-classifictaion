{
  "nbformat": 4,
  "nbformat_minor": 0,
  "metadata": {
    "colab": {
      "provenance": []
    },
    "kernelspec": {
      "name": "python3",
      "display_name": "Python 3"
    },
    "language_info": {
      "name": "python"
    }
  },
  "cells": [
    {
      "cell_type": "code",
      "execution_count": 1,
      "metadata": {
        "id": "nJ0wWuozj6o8"
      },
      "outputs": [],
      "source": [
        "import numpy as np \n",
        "import matplotlib.pyplot as plt\n",
        "import glob\n",
        "import cv2\n",
        "import os\n",
        "from google.colab import drive\n",
        "import seaborn as sns\n",
        "import pandas as pd\n",
        "from skimage.filters import sobel\n",
        "from skimage.feature import greycomatrix, greycoprops\n",
        "from skimage.measure import shannon_entropy\n",
        "from sklearn.pipeline import Pipeline\n",
        "from sklearn.svm import SVC, LinearSVC\n",
        "from skimage.feature import local_binary_pattern\n",
        "from sklearn.ensemble import RandomForestClassifier\n",
        "from sklearn.neighbors import KNeighborsClassifier\n",
        "from sklearn.ensemble import AdaBoostClassifier\n",
        "from sklearn.preprocessing import LabelEncoder, StandardScaler, MinMaxScaler\n",
        "from sklearn import metrics\n",
        "from pathlib import Path\n",
        "import xgboost as xgb\n",
        "import lightgbm as lgb\n",
        "from PIL import Image, ImageOps\n",
        "from sklearn.model_selection import GridSearchCV, StratifiedKFold\n",
        "from sklearn.metrics import accuracy_score, auc, roc_curve, roc_auc_score, recall_score, confusion_matrix\n"
      ]
    },
    {
      "cell_type": "code",
      "source": [
        "# This will prompt for authorization.\n",
        "drive.mount('/content/drive')\n",
        "# Define the root data directory\n",
        "DATA_DIR = \"/content/drive/MyDrive/dataset\""
      ],
      "metadata": {
        "colab": {
          "base_uri": "https://localhost:8080/"
        },
        "id": "NmzMWbSKkAMB",
        "outputId": "16f24db9-0465-4c6e-88b7-b5ca42c3fe7c"
      },
      "execution_count": 2,
      "outputs": [
        {
          "output_type": "stream",
          "name": "stdout",
          "text": [
            "Mounted at /content/drive\n"
          ]
        }
      ]
    },
    {
      "cell_type": "markdown",
      "source": [
        "##LBP"
      ],
      "metadata": {
        "id": "7rla_Z9LkVMk"
      }
    },
    {
      "cell_type": "code",
      "source": [
        "def compute_lbp(arr):\n",
        "  # LBP function params\n",
        "  radius = 3\n",
        "  n_points = 8 * radius\n",
        "  n_bins = n_points + 2\n",
        "  lbp = local_binary_pattern(arr,n_points,radius,'uniform')\n",
        "  lbp = lbp.ravel()\n",
        "  #feature_len = int(lbp.max() + 1)\n",
        "  feature = np.zeros(n_bins)\n",
        "  for i in lbp:\n",
        "    feature[int(i)] += 1 # Feature\n",
        "  feature /= np.linalg.norm(feature, ord=1) # Normalizing feature\n",
        "  return feature"
      ],
      "metadata": {
        "id": "Ag7GbS7ykLef"
      },
      "execution_count": 3,
      "outputs": []
    },
    {
      "cell_type": "markdown",
      "source": [
        "lbp train data"
      ],
      "metadata": {
        "id": "k1U_L9QNkkd9"
      }
    },
    {
      "cell_type": "code",
      "source": [
        "SIZE = 224\n",
        "train_images_lbp = []\n",
        "train_labels_lbp = [] \n",
        "#for directory_path in glob.glob(\"cell_images/train/*\"):\n",
        "for directory_path in glob.glob(\"/content/drive/MyDrive/dataset/sub_set/train/*\"):\n",
        "    label_lbp_train = directory_path.split(\"/\")[-1]\n",
        "    print(label_lbp_train)\n",
        "    for img_path in glob.glob(os.path.join(directory_path, \"*.jpg\")):\n",
        "        #print(img_path)\n",
        "        img1 = cv2.imread(img_path,0) #Reading color images\n",
        "        img1 = cv2.resize(img1, (SIZE, SIZE)) #Resize images\n",
        "        arr = np.array(img1) # convert the image to numpy array\n",
        "        feature_train_lbp = compute_lbp(arr)\n",
        "        train_images_lbp.append(feature_train_lbp)\n",
        "        train_labels_lbp.append(label_lbp_train)\n",
        "\n",
        "train_images_lbp =np.array(train_images_lbp)\n",
        "trait_labels_lbp =np.array(train_labels_lbp)\n"
      ],
      "metadata": {
        "colab": {
          "base_uri": "https://localhost:8080/"
        },
        "id": "1btaf1ZAkivw",
        "outputId": "d2a735b4-9eaa-4888-cbf4-fc60cd134caa"
      },
      "execution_count": 4,
      "outputs": [
        {
          "output_type": "stream",
          "name": "stdout",
          "text": [
            "nevus\n",
            "others\n"
          ]
        }
      ]
    },
    {
      "cell_type": "markdown",
      "source": [
        "lbp val data"
      ],
      "metadata": {
        "id": "SRag_F1elXtD"
      }
    },
    {
      "cell_type": "code",
      "source": [
        "\n",
        "test_images_lbp = []\n",
        "test_labels_lbp = [] \n",
        "#for directory_path in glob.glob(\"cell_images/train/*\"):\n",
        "for directory_path in glob.glob(\"/content/drive/MyDrive/dataset/sub_set/val/*\"):\n",
        "    label_lbp_test = directory_path.split(\"/\")[-1]\n",
        "    print(label_lbp_test)\n",
        "    for img_path in glob.glob(os.path.join(directory_path, \"*.jpg\")):\n",
        "        #print(img_path)\n",
        "        img2 = cv2.imread(img_path,0) #Reading color images\n",
        "        img2 = cv2.resize(img2, (SIZE, SIZE)) #Resize images\n",
        "        arr = np.array(img2) # convert the image to numpy array\n",
        "        feature_test = compute_lbp(arr)\n",
        "        test_images_lbp.append(feature_test)\n",
        "        test_labels_lbp.append(label_lbp_test)\n",
        "\n",
        "test_images_lbp =np.array(test_images_lbp)\n",
        "test_labels_lbp =np.array(test_labels_lbp)"
      ],
      "metadata": {
        "colab": {
          "base_uri": "https://localhost:8080/"
        },
        "id": "LnoOluxllb3P",
        "outputId": "d634829f-bb1c-4558-f9a0-bdc1ca7c1ba4"
      },
      "execution_count": 12,
      "outputs": [
        {
          "output_type": "stream",
          "name": "stdout",
          "text": [
            "nevus\n",
            "others\n"
          ]
        }
      ]
    },
    {
      "cell_type": "markdown",
      "source": [
        "#COLOR HIST"
      ],
      "metadata": {
        "id": "22fIDXovp835"
      }
    },
    {
      "cell_type": "markdown",
      "source": [
        "color_hist train"
      ],
      "metadata": {
        "id": "BD779e_Xts8S"
      }
    },
    {
      "cell_type": "code",
      "source": [
        "def hist_features(img):\n",
        "  hist_blue = cv2.calcHist([img],[0],None,[256],[0,256]) #blue\n",
        "  hist_green = cv2.calcHist([img],[1],None,[256],[0,256])\n",
        "  hist_red = cv2.calcHist([img],[2],None,[256],[0,256])\n",
        "  hist=np.hstack([hist_green,hist_red,hist_blue])\n",
        "  return hist.flatten()"
      ],
      "metadata": {
        "id": "1T-CHKwFnsYg"
      },
      "execution_count": 6,
      "outputs": []
    },
    {
      "cell_type": "code",
      "source": [
        "#Resize images to\n",
        "SIZE = 224\n",
        "\n",
        "#Capture images and labels into arrays.\n",
        "#Start by creating empty lists.\n",
        "train_hist = []\n",
        "train_label_hist = [] \n",
        "for directory_path in glob.glob(\"/content/drive/MyDrive/dataset/sub_set/train/*\"):\n",
        "    labelhist = directory_path.split(\"\\\\\")[-1]\n",
        "    print(labelhist)\n",
        "    for img_path in glob.glob(os.path.join(directory_path, \"*.jpg\")):\n",
        "        print(img_path)\n",
        "        img3 = cv2.imread(img_path,cv2.COLOR_BGR2RGB) #Reading color images\n",
        "        img3 = cv2.resize(img3, (SIZE, SIZE)) #Resize images\n",
        "        img3=hist_features(img3) #call the function\n",
        "        train_hist.append(img3)\n",
        "        train_label_hist.append(labelhist)\n",
        "\n",
        "train_hist = np.array(train_hist)\n",
        "train_label_hist= np.array(train_label_hist)"
      ],
      "metadata": {
        "id": "miUjRQlKnv1I"
      },
      "execution_count": null,
      "outputs": []
    },
    {
      "cell_type": "markdown",
      "source": [
        "color hist test"
      ],
      "metadata": {
        "id": "81SoYEgZtykq"
      }
    },
    {
      "cell_type": "code",
      "source": [
        "\n",
        "#Resize images to\n",
        "SIZE = 224\n",
        "\n",
        "#Capture images and labels into arrays.\n",
        "#Start by creating empty lists.\n",
        "test_hist = []\n",
        "test_label_hist = [] \n",
        "for directory_path in glob.glob(\"/content/drive/MyDrive/dataset/sub_set/val/*\"):\n",
        "    labelhist_test = directory_path.split(\"\\\\\")[-1]\n",
        "    print(labelhist_test)\n",
        "    for img_path in glob.glob(os.path.join(directory_path, \"*.jpg\")):\n",
        "        print(img_path)\n",
        "        img4 = cv2.imread(img_path,cv2.COLOR_BGR2RGB) #Reading color images\n",
        "        img4 = cv2.resize(img4, (SIZE, SIZE)) #Resize images\n",
        "        img4=hist_features(img4)\n",
        "        test_hist.append(img4)\n",
        "        test_label_hist.append(labelhist_test)\n",
        "\n",
        "test_hist = np.array(test_hist)\n",
        "test_label_hist= np.array(test_label_hist)"
      ],
      "metadata": {
        "id": "FLXpef5Otmop"
      },
      "execution_count": null,
      "outputs": []
    },
    {
      "cell_type": "markdown",
      "source": [
        "concat lbp and color \n"
      ],
      "metadata": {
        "id": "Ykx0PkAGxNKk"
      }
    },
    {
      "cell_type": "code",
      "source": [
        "train_images_lbp.shape"
      ],
      "metadata": {
        "colab": {
          "base_uri": "https://localhost:8080/"
        },
        "id": "UosrRK7kkV78",
        "outputId": "9647cf7e-6460-4bca-f7f9-675eb915f15b"
      },
      "execution_count": 8,
      "outputs": [
        {
          "output_type": "execute_result",
          "data": {
            "text/plain": [
              "(7203, 26)"
            ]
          },
          "metadata": {},
          "execution_count": 8
        }
      ]
    },
    {
      "cell_type": "code",
      "source": [
        "train_feature_lhist=np.concatenate((train_images_lbp,train_hist),axis=1)\n",
        "test_feature_lhist=np.concatenate((test_images_lbp,test_hist),axis=1)\n"
      ],
      "metadata": {
        "id": "YBZo8TnRxM4D"
      },
      "execution_count": 13,
      "outputs": []
    },
    {
      "cell_type": "code",
      "source": [
        "from sklearn import preprocessing\n",
        "le = preprocessing.LabelEncoder()\n",
        "le.fit(test_label_hist)\n",
        "test_labels_encoded = le.transform(test_label_hist)\n",
        "le.fit(train_label_hist)\n",
        "train_labels_encoded = le.transform(train_label_hist)"
      ],
      "metadata": {
        "id": "dhm2usNbx19r"
      },
      "execution_count": 34,
      "outputs": []
    },
    {
      "cell_type": "markdown",
      "source": [
        "#GLCM"
      ],
      "metadata": {
        "id": "Z326gsU2--bB"
      }
    },
    {
      "cell_type": "markdown",
      "source": [
        "glcm train data"
      ],
      "metadata": {
        "id": "eZnFJ9j5_0df"
      }
    },
    {
      "cell_type": "code",
      "source": [
        "def feature_extractor(dataset):\n",
        "  image_dataset  = pd.DataFrame()\n",
        "  distance = [11, 21]\n",
        "  angle = [0, np.pi/4, np.pi/2, 3*np.pi/4]\n",
        "  for image in range(dataset.shape[0]):\n",
        "    img = dataset[image]\n",
        "    df = pd.DataFrame()\n",
        "    count = 1\n",
        "    for dist in distance:\n",
        "      for ang in angle:\n",
        "        GLCM = greycomatrix(img, [dist], [ang])      \n",
        "        GLCM_Energy = greycoprops(GLCM, 'energy')[0]\n",
        "        df[f'Energy{count}'] = GLCM_Energy\n",
        "        GLCM_corr = greycoprops(GLCM, 'correlation')[0]\n",
        "        df[f'Corr{count}'] = GLCM_corr             \n",
        "        GLCM_hom = greycoprops(GLCM, 'homogeneity')[0]\n",
        "        df[f'Homogen{count}'] = GLCM_hom       \n",
        "        GLCM_contr = greycoprops(GLCM, 'contrast')[0]\n",
        "        df[f'Contrast{count}'] = GLCM_contr\n",
        "        count = count + 1\n",
        "    image_dataset = image_dataset.append(df)    \n",
        "  return image_dataset"
      ],
      "metadata": {
        "id": "Fhg7c7WI_EtD"
      },
      "execution_count": 14,
      "outputs": []
    },
    {
      "cell_type": "code",
      "source": [
        "#Resize images to\n",
        "SIZE = 224\n",
        "\n",
        "#Capture images and labels into arrays.\n",
        "#Start by creating empty lists.\n",
        "train_image_glcm = []\n",
        "train_label_glcm = [] \n",
        "for directory_path in glob.glob(\"/content/drive/MyDrive/dataset/sub_set/train/*\"):\n",
        "    label_glcm = directory_path.split(\"\\\\\")[-1]\n",
        "    #print(label_glcm)\n",
        "    for img_path in glob.glob(os.path.join(directory_path, \"*.jpg\")):\n",
        "        print(img_path)\n",
        "        img5= cv2.imread(img_path,0)\n",
        "        #img5 = cv2.imread(img_path,cv2.COLOR_BGR2RGB) #Reading color images\n",
        "        img5 = cv2.resize(img5, (SIZE, SIZE)) #Resize images\n",
        "        train_image_glcm.append(img5)\n",
        "        train_label_glcm.append(label_glcm)\n",
        "\n",
        "\n",
        "train_label_glcm= np.array(train_label_glcm) \n",
        "train_image_glcm = np.array(train_image_glcm)\n"
      ],
      "metadata": {
        "id": "9_bt0TXa_zuL"
      },
      "execution_count": null,
      "outputs": []
    },
    {
      "cell_type": "code",
      "source": [
        "train_image_glcm.shape"
      ],
      "metadata": {
        "colab": {
          "base_uri": "https://localhost:8080/"
        },
        "id": "1yWY8TFoFieT",
        "outputId": "711f554d-b2aa-4da7-de1b-df2f0575978a"
      },
      "execution_count": 16,
      "outputs": [
        {
          "output_type": "execute_result",
          "data": {
            "text/plain": [
              "(7203, 224, 224)"
            ]
          },
          "metadata": {},
          "execution_count": 16
        }
      ]
    },
    {
      "cell_type": "code",
      "source": [
        "#x_train=train_image_glcm"
      ],
      "metadata": {
        "id": "p8I4jpttBjTi"
      },
      "execution_count": 17,
      "outputs": []
    },
    {
      "cell_type": "code",
      "source": [
        "train_feature_glcm = feature_extractor(train_image_glcm)"
      ],
      "metadata": {
        "id": "Y6-wA7Hz_VWK"
      },
      "execution_count": 18,
      "outputs": []
    },
    {
      "cell_type": "code",
      "source": [
        "train_feature_glcm.shape"
      ],
      "metadata": {
        "colab": {
          "base_uri": "https://localhost:8080/"
        },
        "id": "a74w7V65Jadq",
        "outputId": "152727ea-72fd-4399-d3cf-2e6f2ddee7f9"
      },
      "execution_count": 19,
      "outputs": [
        {
          "output_type": "execute_result",
          "data": {
            "text/plain": [
              "(7203, 32)"
            ]
          },
          "metadata": {},
          "execution_count": 19
        }
      ]
    },
    {
      "cell_type": "markdown",
      "source": [
        "test data for glcm"
      ],
      "metadata": {
        "id": "RecmUGqrJkR1"
      }
    },
    {
      "cell_type": "code",
      "source": [
        "#Resize images to\n",
        "SIZE = 224\n",
        "\n",
        "#Capture images and labels into arrays.\n",
        "#Start by creating empty lists.\n",
        "test_image_glcm = []\n",
        "test_label_glcm = [] \n",
        "for directory_path in glob.glob(\"/content/drive/MyDrive/dataset/sub_set/val/*\"):\n",
        "    label_glcm_test = directory_path.split(\"\\\\\")[-1]\n",
        "    #print(label_glcm)\n",
        "    for img_path in glob.glob(os.path.join(directory_path, \"*.jpg\")):\n",
        "        print(img_path)\n",
        "        img6= cv2.imread(img_path,0)\n",
        "        #img5 = cv2.imread(img_path,cv2.COLOR_BGR2RGB) #Reading color images\n",
        "        img6 = cv2.resize(img6, (SIZE, SIZE)) #Resize images\n",
        "        test_image_glcm.append(img6)\n",
        "        test_label_glcm.append(label_glcm_test)\n",
        "\n",
        "\n",
        "test_label_glcm= np.array(test_label_glcm) \n",
        "test_image_glcm = np.array(test_image_glcm)"
      ],
      "metadata": {
        "id": "ra0_K19TJjT-"
      },
      "execution_count": null,
      "outputs": []
    },
    {
      "cell_type": "code",
      "source": [
        "test_feature_glcm = feature_extractor(test_image_glcm)"
      ],
      "metadata": {
        "id": "ojbW18qgJRKx"
      },
      "execution_count": 21,
      "outputs": []
    },
    {
      "cell_type": "markdown",
      "source": [
        "Concat glcm, rgb hist and lbp"
      ],
      "metadata": {
        "id": "u4wpRTS4KZth"
      }
    },
    {
      "cell_type": "code",
      "source": [
        "train_feature_ghl=np.concatenate((train_images_lbp,train_hist,train_feature_glcm,train_images_lbp),axis=1)\n",
        "test_feature_ghl=np.concatenate((test_images_lbp,test_hist,test_feature_glcm,test_images_lbp),axis=1)"
      ],
      "metadata": {
        "id": "mF0ac3EgKdlu"
      },
      "execution_count": 22,
      "outputs": []
    },
    {
      "cell_type": "markdown",
      "source": [
        "#HSV Hist"
      ],
      "metadata": {
        "id": "pcM87Zf8Uxo9"
      }
    },
    {
      "cell_type": "code",
      "source": [
        "def hsv_hist_features(img):\n",
        "    h, s, v = img[:,:,0], img[:,:,1], img[:,:,2]\n",
        "    hist_h = cv2.calcHist([h],[0],None,[256],[0,256])\n",
        "    #hist_s = cv2.calcHist([s],[0],None,[256],[0,256])\n",
        "    #hist_v = cv2.calcHist([v],[0],None,[256],[0,256])\n",
        "    hist=np.hstack([hist_h])\n",
        "    return hist.flatten()"
      ],
      "metadata": {
        "id": "uPlyWnzlSFdG"
      },
      "execution_count": 23,
      "outputs": []
    },
    {
      "cell_type": "code",
      "source": [
        "a=hsv_hist_features(train_image_glcm)"
      ],
      "metadata": {
        "id": "htHKltqQV9Zc"
      },
      "execution_count": 24,
      "outputs": []
    },
    {
      "cell_type": "code",
      "source": [
        "#Resize images to\n",
        "SIZE = 224\n",
        "\n",
        "#Capture images and labels into arrays.\n",
        "#Start by creating empty lists.\n",
        "train_hsv = []\n",
        "train_label_hsv = [] \n",
        "for directory_path in glob.glob(\"/content/drive/MyDrive/dataset/sub_set/train/*\"):\n",
        "    labelhsv = directory_path.split(\"\\\\\")[-1]\n",
        "    print(labelhsv)\n",
        "    for img_path in glob.glob(os.path.join(directory_path, \"*.jpg\")):\n",
        "        print(img_path)\n",
        "        img7 = cv2.imread(img_path,cv2.COLOR_BGR2HSV) #Reading color images\n",
        "        img7 = cv2.resize(img7, (SIZE, SIZE)) #Resize images\n",
        "        img7=hsv_hist_features(img7) #call the function\n",
        "        train_hsv.append(img7)\n",
        "        train_label_hsv.append(labelhsv)\n",
        "\n",
        "train_hsv = np.array(train_hsv)\n",
        "#train_label_hsv= np.array(train_label_hsv)"
      ],
      "metadata": {
        "id": "rWN0DNEGWa--"
      },
      "execution_count": null,
      "outputs": []
    },
    {
      "cell_type": "code",
      "source": [
        "#Resize images to\n",
        "SIZE = 224\n",
        "\n",
        "#Capture images and labels into arrays.\n",
        "#Start by creating empty lists.\n",
        "test_hsv = []\n",
        "test_label_hsv = [] \n",
        "\n",
        "for directory_path in glob.glob(\"/content/drive/MyDrive/dataset/sub_set/val/*\"):\n",
        "    label = directory_path.split(\"\\\\\")[-1]\n",
        "    print(label)\n",
        "    for img_path in glob.glob(os.path.join(directory_path, \"*.jpg\")):\n",
        "        print(img_path)\n",
        "        img8 = cv2.imread(img_path,cv2.COLOR_BGR2HSV) #Reading color images\n",
        "        img8 = cv2.resize(img8, (SIZE, SIZE)) #Resize images\n",
        "        img8=hsv_hist_features(img8) #call the function\n",
        "        test_hsv.append(img8)\n",
        "        test_label_hsv.append(label)\n",
        "\n",
        "test_hsv = np.array(test_hsv)\n"
      ],
      "metadata": {
        "id": "44XLlG3jX44P"
      },
      "execution_count": null,
      "outputs": []
    },
    {
      "cell_type": "markdown",
      "source": [
        "Importing test_set"
      ],
      "metadata": {
        "id": "Ii5actwwMzZP"
      }
    },
    {
      "cell_type": "code",
      "source": [
        "'''test_images = []\n",
        "test_ID_2 = []\n",
        "counter = 1\n",
        "#hu_features_test = []\n",
        "test_array=[]\n",
        "#for directory_path in glob.glob(\"cell_images/test/*\"): \n",
        "for directory_path in glob.glob(\"/content/sample_check/*\"):\n",
        "   test_label = directory_path.split(\"/\")[-1]\n",
        "   print(test_label)\n",
        "   test_ID_2.append(test_label)\n",
        "   test_array.append(counter)\n",
        "   counter = counter+1\n",
        "   for img_path in glob.glob(os.path.join(directory_path, \"*.jpg\")):\n",
        "        img = cv2.imread(img_path, 0)\n",
        "        #img = cv2.resize(img, (SIZE, SIZE))\n",
        "        test_images.append(img)\n",
        "        #test_ID_1.append(test_label)\n",
        "        \n",
        "test_images = np.array(test_images)\n",
        "#test_ID = np.array(test_ID)\n",
        "test_array = np.array(test_array)"
      ],
      "metadata": {
        "id": "LEXrE2NnM2Zx"
      },
      "execution_count": null,
      "outputs": []
    },
    {
      "cell_type": "markdown",
      "source": [
        "#combine glcm. lbp, RGB, HSV"
      ],
      "metadata": {
        "id": "ofEUVXd3dOeN"
      }
    },
    {
      "cell_type": "code",
      "source": [
        "train_feature_all=np.concatenate((train_hist,train_feature_glcm,train_images_lbp,train_hsv),axis=1)\n",
        "test_feature_all=np.concatenate((test_hist,test_feature_glcm,test_images_lbp,test_hsv),axis=1)"
      ],
      "metadata": {
        "id": "lusnafOOdVxx"
      },
      "execution_count": 30,
      "outputs": []
    },
    {
      "cell_type": "code",
      "source": [
        "# x_train, y_train, x_test, y_test = train_images, train_labels_encoded, test_images, test_labels_encoded"
      ],
      "metadata": {
        "id": "2GDCr-wVz01I"
      },
      "execution_count": 31,
      "outputs": []
    },
    {
      "cell_type": "markdown",
      "source": [
        "#SVM"
      ],
      "metadata": {
        "id": "SKMdPhLPz99K"
      }
    },
    {
      "cell_type": "code",
      "source": [
        "pipe1 = Pipeline([\n",
        "                 (\"scale\", StandardScaler()),\n",
        "                 (\"classifier\", SVC(class_weight='balanced', probability=True, kernel= 'rbf', gamma=0.01, C=100)) #radial basis function kernel\n",
        "                 ])"
      ],
      "metadata": {
        "id": "oYr5tmZHz8YM"
      },
      "execution_count": 32,
      "outputs": []
    },
    {
      "cell_type": "code",
      "source": [
        "pipe1.fit(train_feature_all,train_labels_encoded)"
      ],
      "metadata": {
        "colab": {
          "base_uri": "https://localhost:8080/"
        },
        "id": "V1g8nxRDz_vO",
        "outputId": "a2cf12c5-1515-4465-8337-def66007f2f6"
      },
      "execution_count": 35,
      "outputs": [
        {
          "output_type": "execute_result",
          "data": {
            "text/plain": [
              "Pipeline(steps=[('scale', StandardScaler()),\n",
              "                ('classifier',\n",
              "                 SVC(C=100, class_weight='balanced', gamma=0.01,\n",
              "                     probability=True))])"
            ]
          },
          "metadata": {},
          "execution_count": 35
        }
      ]
    },
    {
      "cell_type": "code",
      "source": [
        "# Test set evaluation\n",
        "prediction_svm = pipe1.predict(test_feature_all)\n",
        "# Visualization\n",
        "cmat = metrics.confusion_matrix(prediction_svm,test_labels_encoded)\n",
        "#s = sns.heatmap(cmat,annot=True,xticklabels=label, yticklabels=label)\n",
        "#s.set(xlabel='Predicted', ylabel='Actual')\n",
        "acc_svm = cmat.trace() / cmat.sum()\n",
        "print('Accuracy: {0:5.2f}%'.format(acc_svm*100))"
      ],
      "metadata": {
        "colab": {
          "base_uri": "https://localhost:8080/"
        },
        "id": "aCaTh4FC0Sv2",
        "outputId": "4f8c9fb7-eaed-42a9-b9c0-96db1058c7e3"
      },
      "execution_count": 36,
      "outputs": [
        {
          "output_type": "stream",
          "name": "stdout",
          "text": [
            "Accuracy: 73.29%\n"
          ]
        }
      ]
    },
    {
      "cell_type": "markdown",
      "source": [
        "#Random forest"
      ],
      "metadata": {
        "id": "F4nNjBZL2oCk"
      }
    },
    {
      "cell_type": "code",
      "source": [
        "pipe2 = Pipeline([\n",
        "                 (\"scale\", StandardScaler()),\n",
        "                 (\"classifier\", RandomForestClassifier(n_estimators = 800, max_depth=60,random_state = 42))\n",
        "                 ])"
      ],
      "metadata": {
        "id": "0xi44BpN1wkO"
      },
      "execution_count": 90,
      "outputs": []
    },
    {
      "cell_type": "code",
      "source": [
        "pipe2.fit(train_feature_all,train_labels_encoded)"
      ],
      "metadata": {
        "colab": {
          "base_uri": "https://localhost:8080/"
        },
        "id": "FliFWKXd1-rC",
        "outputId": "69aee15f-3567-428d-eae5-50ccd7bd9d4a"
      },
      "execution_count": 91,
      "outputs": [
        {
          "output_type": "execute_result",
          "data": {
            "text/plain": [
              "Pipeline(steps=[('scale', StandardScaler()),\n",
              "                ('classifier',\n",
              "                 RandomForestClassifier(max_depth=60, n_estimators=800,\n",
              "                                        random_state=42))])"
            ]
          },
          "metadata": {},
          "execution_count": 91
        }
      ]
    },
    {
      "cell_type": "code",
      "source": [
        "train_feature_all.shape"
      ],
      "metadata": {
        "colab": {
          "base_uri": "https://localhost:8080/"
        },
        "id": "7lXxld0Fh5aH",
        "outputId": "b4f7407b-3cca-48c9-bdee-47ded1b3bd29"
      },
      "execution_count": 95,
      "outputs": [
        {
          "output_type": "execute_result",
          "data": {
            "text/plain": [
              "(7203, 1082)"
            ]
          },
          "metadata": {},
          "execution_count": 95
        }
      ]
    },
    {
      "cell_type": "code",
      "source": [
        "# Test set evaluation\n",
        "prediction_rf = pipe2.predict(test_feature_all)\n",
        "# Visualization\n",
        "cmat_r = metrics.confusion_matrix(prediction_rf,test_labels_encoded)\n",
        "#s = sns.heatmap(cmat,annot=True,xticklabels=label, yticklabels=label)\n",
        "#s.set(xlabel='Predicted', ylabel='Actual')\n",
        "acc_r = cmat_r.trace() / cmat_r.sum()\n",
        "print('Accuracy: {0:5.2f}%'.format(acc_r*100))"
      ],
      "metadata": {
        "colab": {
          "base_uri": "https://localhost:8080/"
        },
        "id": "BdM2LUwf2YoV",
        "outputId": "e3970b27-071a-4e08-8fe4-49e9623b73d3"
      },
      "execution_count": 93,
      "outputs": [
        {
          "output_type": "stream",
          "name": "stdout",
          "text": [
            "Accuracy: 80.30%\n"
          ]
        }
      ]
    },
    {
      "cell_type": "markdown",
      "source": [
        "#KNN"
      ],
      "metadata": {
        "id": "xMY47hXs2-eP"
      }
    },
    {
      "cell_type": "code",
      "source": [
        "pipe3 = Pipeline([\n",
        "                 (\"scale\",StandardScaler()),\n",
        "                 (\"classifier\", KNeighborsClassifier(n_neighbors=10))\n",
        "                 ])"
      ],
      "metadata": {
        "id": "004Wf-pD3AzQ"
      },
      "execution_count": 40,
      "outputs": []
    },
    {
      "cell_type": "code",
      "source": [
        "pipe3.fit(train_feature_all,train_labels_encoded)"
      ],
      "metadata": {
        "colab": {
          "base_uri": "https://localhost:8080/"
        },
        "id": "4lLiEctC3CgE",
        "outputId": "dba99a53-878f-4b82-8cae-cf67714949de"
      },
      "execution_count": 41,
      "outputs": [
        {
          "output_type": "execute_result",
          "data": {
            "text/plain": [
              "Pipeline(steps=[('scale', StandardScaler()),\n",
              "                ('classifier', KNeighborsClassifier(n_neighbors=10))])"
            ]
          },
          "metadata": {},
          "execution_count": 41
        }
      ]
    },
    {
      "cell_type": "code",
      "source": [
        "# Test set evaluation\n",
        "prediction_knn = pipe3.predict(test_feature_all)\n",
        "# Visualization\n",
        "cmat_knn = metrics.confusion_matrix(prediction_knn,test_labels_encoded)\n",
        "#s = sns.heatmap(cmat,annot=True,xticklabels=label, yticklabels=label)\n",
        "#s.set(xlabel='Predicted', ylabel='Actual')\n",
        "acc_knn = cmat_knn.trace() / cmat_knn.sum()\n",
        "print('Accuracy: {0:5.2f}%'.format(acc_knn*100))"
      ],
      "metadata": {
        "colab": {
          "base_uri": "https://localhost:8080/"
        },
        "id": "XR2CnXsJ3NBJ",
        "outputId": "0421d985-a322-414c-af0e-97ca4c89aa55"
      },
      "execution_count": 42,
      "outputs": [
        {
          "output_type": "stream",
          "name": "stdout",
          "text": [
            "Accuracy: 75.38%\n"
          ]
        }
      ]
    },
    {
      "cell_type": "markdown",
      "source": [
        "#XGB"
      ],
      "metadata": {
        "id": "5sMqz9_H3fhZ"
      }
    },
    {
      "cell_type": "code",
      "source": [
        "mod1 = xgb.XGBClassifier(booster='dart',learning_rate=0.2)\n",
        "train_arr = np.array(train_feature_all)\n",
        "test_arr = np.array(test_feature_all)\n",
        "mod1.fit(train_arr, train_labels_encoded)"
      ],
      "metadata": {
        "colab": {
          "base_uri": "https://localhost:8080/"
        },
        "id": "MGa7Y7Ux3lJQ",
        "outputId": "247767c2-f9e5-48a9-9e05-755d70855e5e"
      },
      "execution_count": 43,
      "outputs": [
        {
          "output_type": "execute_result",
          "data": {
            "text/plain": [
              "XGBClassifier(booster='dart', learning_rate=0.2)"
            ]
          },
          "metadata": {},
          "execution_count": 43
        }
      ]
    },
    {
      "cell_type": "code",
      "source": [
        "prediction_xgb = mod1.predict(test_arr)\n",
        "print(\"Accuracy = \", accuracy_score(test_labels_encoded, prediction_xgb)*100)\n",
        "#print('Accuracy: {0:5.2f}%'.format(acc*100))"
      ],
      "metadata": {
        "colab": {
          "base_uri": "https://localhost:8080/"
        },
        "id": "jqA4B_-j34ko",
        "outputId": "72b3ad72-97ef-4a16-a35a-a4c2c383608d"
      },
      "execution_count": 44,
      "outputs": [
        {
          "output_type": "stream",
          "name": "stdout",
          "text": [
            "Accuracy =  79.17093142272262\n"
          ]
        }
      ]
    },
    {
      "cell_type": "markdown",
      "source": [
        "#LightGBM"
      ],
      "metadata": {
        "id": "ks_15Plg4JGJ"
      }
    },
    {
      "cell_type": "code",
      "source": [
        "scaler = StandardScaler()\n",
        "train_scaled = scaler.fit_transform(train_feature_all)\n",
        "test_scaled = scaler.transform(test_feature_all)\n",
        "d_train = lgb.Dataset(train_scaled, label=train_labels_encoded)"
      ],
      "metadata": {
        "id": "u5Fy3bCb4MCd"
      },
      "execution_count": 45,
      "outputs": []
    },
    {
      "cell_type": "code",
      "source": [
        "lgbm_params = {'learning_rate':0.05, 'boosting_type':'gbdt', #Sometimes dart gives better accuracy. gbdt means gradient boosting.\n",
        "              'objective':'binary',\n",
        "              'metric':['auc', 'binary_logloss'],\n",
        "              'num_leaves':100, # optimizing this avoids overfitting. 50 to 100\n",
        "              'max_depth':10} #10 may be appropriate"
      ],
      "metadata": {
        "id": "TiFNqg2P4XqE"
      },
      "execution_count": 46,
      "outputs": []
    },
    {
      "cell_type": "code",
      "source": [
        "clf = lgb.train(lgbm_params, d_train, 70) #50 iterations. Increase iterations for small learning rates. eg if learning grate = 0.005, we may need 500 iterations.\n",
        "prediction_lgb=clf.predict(test_scaled)\n",
        "#convert the probabilities into binary values 0/1 for classification\n",
        "for i in range(0, test_scaled.shape[0]):\n",
        "    if prediction_lgb[i]>=.5: # setting threshold to 0.5\n",
        "       prediction_lgb[i]=1\n",
        "    else:  \n",
        "       prediction_lgb[i]=0"
      ],
      "metadata": {
        "id": "7fsZCGL762iN"
      },
      "execution_count": 47,
      "outputs": []
    },
    {
      "cell_type": "code",
      "source": [
        "#Print accuracy\n",
        "print (\"Accuracy with LGBM = \", accuracy_score(test_labels_encoded, prediction_lgb)*100)\n"
      ],
      "metadata": {
        "colab": {
          "base_uri": "https://localhost:8080/"
        },
        "id": "7lznq4wA7KuX",
        "outputId": "41f8ebdb-1e8c-4b30-aec3-bf2c13666557"
      },
      "execution_count": 48,
      "outputs": [
        {
          "output_type": "stream",
          "name": "stdout",
          "text": [
            "Accuracy with LGBM =  78.96622313203684\n"
          ]
        }
      ]
    },
    {
      "cell_type": "code",
      "source": [
        "#Confusion matrix\n",
        "cm_lgbm = confusion_matrix(test_labels_encoded, prediction_lgb)\n",
        "sns.heatmap(cm_lgbm, annot=True)"
      ],
      "metadata": {
        "colab": {
          "base_uri": "https://localhost:8080/",
          "height": 283
        },
        "id": "NAckKR0k7h86",
        "outputId": "c6516249-92da-40d0-9f0b-0c4f8a73609c"
      },
      "execution_count": 49,
      "outputs": [
        {
          "output_type": "execute_result",
          "data": {
            "text/plain": [
              "<matplotlib.axes._subplots.AxesSubplot at 0x7fd143174950>"
            ]
          },
          "metadata": {},
          "execution_count": 49
        },
        {
          "output_type": "display_data",
          "data": {
            "text/plain": [
              "<Figure size 432x288 with 2 Axes>"
            ],
            "image/png": "[encoded data removed]"
          },
          "metadata": {
            "needs_background": "light"
          }
        }
      ]
    },
    {
      "cell_type": "markdown",
      "source": [
        "#Adaboost"
      ],
      "metadata": {
        "id": "8rPe7eRV7mey"
      }
    },
    {
      "cell_type": "code",
      "source": [
        "clf_adb = AdaBoostClassifier(n_estimators=200, random_state=0)\n",
        "clf_adb.fit(train_feature_all,train_labels_encoded)"
      ],
      "metadata": {
        "colab": {
          "base_uri": "https://localhost:8080/"
        },
        "id": "h-wDgpjM7o6B",
        "outputId": "f9c4a89e-d01b-4d17-bf58-ba8c93332a2d"
      },
      "execution_count": 50,
      "outputs": [
        {
          "output_type": "execute_result",
          "data": {
            "text/plain": [
              "AdaBoostClassifier(n_estimators=200, random_state=0)"
            ]
          },
          "metadata": {},
          "execution_count": 50
        }
      ]
    },
    {
      "cell_type": "code",
      "source": [
        "# Test set evaluation\n",
        "prediction_adb = clf_adb.predict(test_feature_all)\n",
        "# Visualization\n",
        "cmat = confusion_matrix(prediction_adb,test_labels_encoded)\n",
        "#s = sns.heatmap(cmat,annot=True,xticklabels=label, yticklabels=label)\n",
        "#s.set(xlabel='Predicted', ylabel='Actual')\n",
        "acc_adb = cmat.trace() / cmat.sum()\n",
        "print('Accuracy: {0:5.2f}%'.format(acc_adb*100))"
      ],
      "metadata": {
        "colab": {
          "base_uri": "https://localhost:8080/"
        },
        "id": "CSOJIVqp9UT6",
        "outputId": "bf72c619-3bdc-4069-bc0b-e957d02858d8"
      },
      "execution_count": 51,
      "outputs": [
        {
          "output_type": "stream",
          "name": "stdout",
          "text": [
            "Accuracy: 76.66%\n"
          ]
        }
      ]
    },
    {
      "cell_type": "code",
      "source": [
        "prediction_prob = clf_adb.predict_proba(test_feature_all)\n",
        "print(\"Area under curve (AUC): \", roc_auc_score(test_labels_encoded, prediction_prob[:,1]))"
      ],
      "metadata": {
        "colab": {
          "base_uri": "https://localhost:8080/"
        },
        "id": "hO-zc3BQ78ht",
        "outputId": "6b74d693-dfc1-4087-82eb-a30b71ce0eab"
      },
      "execution_count": 52,
      "outputs": [
        {
          "output_type": "stream",
          "name": "stdout",
          "text": [
            "Area under curve (AUC):  0.8363175969740612\n"
          ]
        }
      ]
    },
    {
      "cell_type": "markdown",
      "source": [
        "#random try"
      ],
      "metadata": {
        "id": "QMjtC1waL4XF"
      }
    },
    {
      "cell_type": "code",
      "source": [
        "models = {}\n",
        "\n",
        "# Logistic Regression\n",
        "from sklearn.linear_model import LogisticRegression\n",
        "models['Logistic Regression'] = LogisticRegression()\n",
        "\n",
        "# Support Vector Machines\n",
        "from sklearn.svm import LinearSVC\n",
        "models['Support Vector Machines'] = LinearSVC()\n",
        "\n",
        "# Decision Trees\n",
        "from sklearn.tree import DecisionTreeClassifier\n",
        "models['Decision Trees'] = DecisionTreeClassifier()\n",
        "\n",
        "# Random Forest\n",
        "from sklearn.ensemble import RandomForestClassifier\n",
        "models['Random Forest'] = RandomForestClassifier()\n",
        "\n",
        "# Naive Bayes\n",
        "from sklearn.naive_bayes import GaussianNB\n",
        "models['Naive Bayes'] = GaussianNB()\n",
        "\n",
        "# K-Nearest Neighbors\n",
        "from sklearn.neighbors import KNeighborsClassifier\n",
        "models['K-Nearest Neighbor'] = KNeighborsClassifier()"
      ],
      "metadata": {
        "id": "pRMnYBuaL6JY"
      },
      "execution_count": 53,
      "outputs": []
    },
    {
      "cell_type": "code",
      "source": [
        "from sklearn.metrics import accuracy_score, precision_score, recall_score\n",
        "\n",
        "accuracy, precision, recall = {}, {}, {}\n",
        "\n",
        "for key in models.keys():\n",
        "    \n",
        "    # Fit the classifier\n",
        "    models[key].fit(train_feature_all, train_labels_encoded)\n",
        "    \n",
        "    # Make predictions\n",
        "    predictions = models[key].predict(test_feature_all)\n",
        "    \n",
        "    # Calculate metrics\n",
        "    accuracy[key] = accuracy_score(predictions, test_labels_encoded)\n",
        "    precision[key] = precision_score(predictions,test_labels_encoded)\n",
        "    recall[key] = recall_score(predictions, test_labels_encoded)"
      ],
      "metadata": {
        "colab": {
          "base_uri": "https://localhost:8080/"
        },
        "id": "DDyM5x7GL-A0",
        "outputId": "a6146441-aa9a-4d7d-f2c5-d1b02dcf3122"
      },
      "execution_count": 54,
      "outputs": [
        {
          "output_type": "stream",
          "name": "stderr",
          "text": [
            "/usr/local/lib/python3.7/dist-packages/sklearn/linear_model/_logistic.py:818: ConvergenceWarning: lbfgs failed to converge (status=1):\n",
            "STOP: TOTAL NO. of ITERATIONS REACHED LIMIT.\n",
            "\n",
            "Increase the number of iterations (max_iter) or scale the data as shown in:\n",
            "    https://scikit-learn.org/stable/modules/preprocessing.html\n",
            "Please also refer to the documentation for alternative solver options:\n",
            "    https://scikit-learn.org/stable/modules/linear_model.html#logistic-regression\n",
            "  extra_warning_msg=_LOGISTIC_SOLVER_CONVERGENCE_MSG,\n",
            "/usr/local/lib/python3.7/dist-packages/sklearn/svm/_base.py:1208: ConvergenceWarning: Liblinear failed to converge, increase the number of iterations.\n",
            "  ConvergenceWarning,\n"
          ]
        }
      ]
    },
    {
      "cell_type": "code",
      "source": [
        "import pandas as pd\n",
        "\n",
        "df_model = pd.DataFrame(index=models.keys(), columns=['Accuracy', 'Precision', 'Recall'])\n",
        "df_model['Accuracy'] = accuracy.values()\n",
        "df_model['Precision'] = precision.values()\n",
        "df_model['Recall'] = recall.values()\n",
        "\n",
        "df_model"
      ],
      "metadata": {
        "colab": {
          "base_uri": "https://localhost:8080/",
          "height": 237
        },
        "id": "5Z0rAoqWMciz",
        "outputId": "53c40334-f744-4939-b450-b90ff29bd5f6"
      },
      "execution_count": 55,
      "outputs": [
        {
          "output_type": "execute_result",
          "data": {
            "text/plain": [
              "                         Accuracy  Precision    Recall\n",
              "Logistic Regression      0.685261   0.729934  0.701452\n",
              "Support Vector Machines  0.650972   0.906516  0.622165\n",
              "Decision Trees           0.684749   0.692162  0.716520\n",
              "Random Forest            0.801945   0.808310  0.823077\n",
              "Naive Bayes              0.698055   0.754485  0.707706\n",
              "K-Nearest Neighbor       0.715967   0.792257  0.714651"
            ],
            "text/html": [
              "\n",
              "  <div id=\"df-08c86ac2-b6d1-4395-b09d-556b7b6deca0\">\n",
              "    <div class=\"colab-df-container\">\n",
              "      <div>\n",
              "<style scoped>\n",
              "    .dataframe tbody tr th:only-of-type {\n",
              "        vertical-align: middle;\n",
              "    }\n",
              "\n",
              "    .dataframe tbody tr th {\n",
              "        vertical-align: top;\n",
              "    }\n",
              "\n",
              "    .dataframe thead th {\n",
              "        text-align: right;\n",
              "    }\n",
              "</style>\n",
              "<table border=\"1\" class=\"dataframe\">\n",
              "  <thead>\n",
              "    <tr style=\"text-align: right;\">\n",
              "      <th></th>\n",
              "      <th>Accuracy</th>\n",
              "      <th>Precision</th>\n",
              "      <th>Recall</th>\n",
              "    </tr>\n",
              "  </thead>\n",
              "  <tbody>\n",
              "    <tr>\n",
              "      <th>Logistic Regression</th>\n",
              "      <td>0.685261</td>\n",
              "      <td>0.729934</td>\n",
              "      <td>0.701452</td>\n",
              "    </tr>\n",
              "    <tr>\n",
              "      <th>Support Vector Machines</th>\n",
              "      <td>0.650972</td>\n",
              "      <td>0.906516</td>\n",
              "      <td>0.622165</td>\n",
              "    </tr>\n",
              "    <tr>\n",
              "      <th>Decision Trees</th>\n",
              "      <td>0.684749</td>\n",
              "      <td>0.692162</td>\n",
              "      <td>0.716520</td>\n",
              "    </tr>\n",
              "    <tr>\n",
              "      <th>Random Forest</th>\n",
              "      <td>0.801945</td>\n",
              "      <td>0.808310</td>\n",
              "      <td>0.823077</td>\n",
              "    </tr>\n",
              "    <tr>\n",
              "      <th>Naive Bayes</th>\n",
              "      <td>0.698055</td>\n",
              "      <td>0.754485</td>\n",
              "      <td>0.707706</td>\n",
              "    </tr>\n",
              "    <tr>\n",
              "      <th>K-Nearest Neighbor</th>\n",
              "      <td>0.715967</td>\n",
              "      <td>0.792257</td>\n",
              "      <td>0.714651</td>\n",
              "    </tr>\n",
              "  </tbody>\n",
              "</table>\n",
              "</div>\n",
              "      <button class=\"colab-df-convert\" onclick=\"convertToInteractive('df-08c86ac2-b6d1-4395-b09d-556b7b6deca0')\"\n",
              "              title=\"Convert this dataframe to an interactive table.\"\n",
              "              style=\"display:none;\">\n",
              "        \n",
              "  <svg xmlns=\"http://www.w3.org/2000/svg\" height=\"24px\"viewBox=\"0 0 24 24\"\n",
              "       width=\"24px\">\n",
              "    <path d=\"M0 0h24v24H0V0z\" fill=\"none\"/>\n",
              "    <path d=\"M18.56 5.44l.94 2.06.94-2.06 2.06-.94-2.06-.94-.94-2.06-.94 2.06-2.06.94zm-11 1L8.5 8.5l.94-2.06 2.06-.94-2.06-.94L8.5 2.5l-.94 2.06-2.06.94zm10 10l.94 2.06.94-2.06 2.06-.94-2.06-.94-.94-2.06-.94 2.06-2.06.94z\"/><path d=\"M17.41 7.96l-1.37-1.37c-.4-.4-.92-.59-1.43-.59-.52 0-1.04.2-1.43.59L10.3 9.45l-7.72 7.72c-.78.78-.78 2.05 0 2.83L4 21.41c.39.39.9.59 1.41.59.51 0 1.02-.2 1.41-.59l7.78-7.78 2.81-2.81c.8-.78.8-2.07 0-2.86zM5.41 20L4 18.59l7.72-7.72 1.47 1.35L5.41 20z\"/>\n",
              "  </svg>\n",
              "      </button>\n",
              "      \n",
              "  <style>\n",
              "    .colab-df-container {\n",
              "      display:flex;\n",
              "      flex-wrap:wrap;\n",
              "      gap: 12px;\n",
              "    }\n",
              "\n",
              "    .colab-df-convert {\n",
              "      background-color: #E8F0FE;\n",
              "      border: none;\n",
              "      border-radius: 50%;\n",
              "      cursor: pointer;\n",
              "      display: none;\n",
              "      fill: #1967D2;\n",
              "      height: 32px;\n",
              "      padding: 0 0 0 0;\n",
              "      width: 32px;\n",
              "    }\n",
              "\n",
              "    .colab-df-convert:hover {\n",
              "      background-color: #E2EBFA;\n",
              "      box-shadow: 0px 1px 2px rgba(60, 64, 67, 0.3), 0px 1px 3px 1px rgba(60, 64, 67, 0.15);\n",
              "      fill: #174EA6;\n",
              "    }\n",
              "\n",
              "    [theme=dark] .colab-df-convert {\n",
              "      background-color: #3B4455;\n",
              "      fill: #D2E3FC;\n",
              "    }\n",
              "\n",
              "    [theme=dark] .colab-df-convert:hover {\n",
              "      background-color: #434B5C;\n",
              "      box-shadow: 0px 1px 3px 1px rgba(0, 0, 0, 0.15);\n",
              "      filter: drop-shadow(0px 1px 2px rgba(0, 0, 0, 0.3));\n",
              "      fill: #FFFFFF;\n",
              "    }\n",
              "  </style>\n",
              "\n",
              "      <script>\n",
              "        const buttonEl =\n",
              "          document.querySelector('#df-08c86ac2-b6d1-4395-b09d-556b7b6deca0 button.colab-df-convert');\n",
              "        buttonEl.style.display =\n",
              "          google.colab.kernel.accessAllowed ? 'block' : 'none';\n",
              "\n",
              "        async function convertToInteractive(key) {\n",
              "          const element = document.querySelector('#df-08c86ac2-b6d1-4395-b09d-556b7b6deca0');\n",
              "          const dataTable =\n",
              "            await google.colab.kernel.invokeFunction('convertToInteractive',\n",
              "                                                     [key], {});\n",
              "          if (!dataTable) return;\n",
              "\n",
              "          const docLinkHtml = 'Like what you see? Visit the ' +\n",
              "            '<a target=\"_blank\" href=https://colab.research.google.com/notebooks/data_table.ipynb>data table notebook</a>'\n",
              "            + ' to learn more about interactive tables.';\n",
              "          element.innerHTML = '';\n",
              "          dataTable['output_type'] = 'display_data';\n",
              "          await google.colab.output.renderOutput(dataTable, element);\n",
              "          const docLink = document.createElement('div');\n",
              "          docLink.innerHTML = docLinkHtml;\n",
              "          element.appendChild(docLink);\n",
              "        }\n",
              "      </script>\n",
              "    </div>\n",
              "  </div>\n",
              "  "
            ]
          },
          "metadata": {},
          "execution_count": 55
        }
      ]
    },
    {
      "cell_type": "markdown",
      "source": [
        "#Doing the final pipeline"
      ],
      "metadata": {
        "id": "2qXR5zdUpDKb"
      }
    },
    {
      "cell_type": "markdown",
      "source": [
        "loading final TEST data, LBP feature"
      ],
      "metadata": {
        "id": "yDe3ctdlpYXf"
      }
    },
    {
      "cell_type": "code",
      "source": [
        "'''est_image_glcm = []\n",
        "\n",
        "test_image_ID= []\n",
        "\n",
        "#hu_features_test = []\n",
        "\n",
        "for directory_path in sorted(glob.glob(\"/content/drive/MyDrive/Multiclass/multi_test/*\")):\n",
        "\n",
        "    test_label = directory_path.split(\"/\")[-1]\n",
        "\n",
        "    print(test_label)\n",
        "\n",
        "    #test_image_ID.append(test_label)\n",
        "\n",
        "for directory_path in sorted(glob.glob(\"/content/drive/MyDrive/Multiclass/multi_test\")):\n",
        "\n",
        "    for img_path in sorted(glob.glob(os.path.join(directory_path, \"*.jpg\"))):\n",
        "\n",
        "        #print(img_path)\n",
        "\n",
        "        img1 = cv2.imread(img_path,0)\n",
        "\n",
        "        img1 = cv2.resize(img1, (SIZE, SIZE))\n",
        "\n",
        "        test_image_glcm.append(img1)\n",
        "\n",
        "        \n",
        "\n",
        "test_image_glcm = np.array(test_image_glcm)"
      ],
      "metadata": {
        "id": "PB7p3QUZwfAA"
      },
      "execution_count": 56,
      "outputs": []
    },
    {
      "cell_type": "code",
      "source": [
        "test_image = []\n",
        "test_image_ID= []\n",
        "#t_lbp=[]\n",
        "#hu_features_test = []\n",
        "for directory_path in sorted (glob.glob(\"/content/drive/MyDrive/testX/*\")):\n",
        "    test_label = directory_path.split(\"/\")[-1]\n",
        "    print(test_label)\n",
        "    test_image_ID.append(test_label)\n",
        "for directory_path in sorted (glob.glob(\"/content/drive/MyDrive/testX\")):\n",
        "    for img_path in sorted (glob.glob(os.path.join(directory_path, \"*.jpg\"))):\n",
        "        img1 = cv2.imread(img_path, 0)\n",
        "        img1 = cv2.resize(img1, (SIZE, SIZE))\n",
        "        #arr1 = np.array(img1) # convert the image to numpy array\n",
        "        #feature_test = compute_lbp(arr1)\n",
        "        test_image.append(img1)\n",
        "        #t_lbp.append(feature_test)\n",
        "         #call the function\n",
        "        \n",
        "test_image = np.array(test_image)\n",
        "#t_lbp=np.array(t_lbp)\n"
      ],
      "metadata": {
        "id": "geS-dGvzpLCI"
      },
      "execution_count": null,
      "outputs": []
    },
    {
      "cell_type": "markdown",
      "source": [
        "#LBP"
      ],
      "metadata": {
        "id": "n23smm-SxIbo"
      }
    },
    {
      "cell_type": "code",
      "source": [
        "t_lbp=[]\n",
        "\n",
        "#hu_features_test = []\n",
        "for directory_path in sorted (glob.glob(\"/content/drive/MyDrive/testX/*\")):\n",
        "    test_label = directory_path.split(\"/\")[-1]\n",
        "for directory_path in sorted (glob.glob(\"/content/drive/MyDrive/testX/\")):\n",
        "    for img_path in sorted (glob.glob(os.path.join(directory_path, \"*.jpg\"))):\n",
        "      img11 = cv2.imread(img_path,0) #Reading color images\n",
        "      img11 = cv2.resize(img11, (SIZE, SIZE)) #Resize images\n",
        "      arr1 = np.array(img11) # convert the image to numpy array\n",
        "      feature_train_lbp = compute_lbp(arr1)\n",
        "      t_lbp.append(feature_train_lbp)\n",
        "      \n",
        "       \n",
        "       \n",
        "       \n",
        "         #call the function\n",
        "        \n",
        "t_lbp=np.array(t_lbp)\n"
      ],
      "metadata": {
        "id": "tb767jXgxCWw"
      },
      "execution_count": 65,
      "outputs": []
    },
    {
      "cell_type": "code",
      "source": [
        "len(test_image_ID)"
      ],
      "metadata": {
        "colab": {
          "base_uri": "https://localhost:8080/"
        },
        "id": "tEujLxq7w-JT",
        "outputId": "6c28d411-7a51-4edf-cf21-0f67d572284c"
      },
      "execution_count": 69,
      "outputs": [
        {
          "output_type": "execute_result",
          "data": {
            "text/plain": [
              "6340"
            ]
          },
          "metadata": {},
          "execution_count": 69
        }
      ]
    },
    {
      "cell_type": "code",
      "source": [
        "t_lbp.shape"
      ],
      "metadata": {
        "colab": {
          "base_uri": "https://localhost:8080/"
        },
        "id": "EpcywRHvyZvT",
        "outputId": "b24f4869-c189-4ad0-b62a-226d154a2acf"
      },
      "execution_count": 60,
      "outputs": [
        {
          "output_type": "execute_result",
          "data": {
            "text/plain": [
              "(6340, 26)"
            ]
          },
          "metadata": {},
          "execution_count": 60
        }
      ]
    },
    {
      "cell_type": "code",
      "source": [
        "test_image_ID"
      ],
      "metadata": {
        "id": "sUOj5NaKwNSv"
      },
      "execution_count": null,
      "outputs": []
    },
    {
      "cell_type": "markdown",
      "source": [
        "GLCM for test"
      ],
      "metadata": {
        "id": "t_CyIESWpf3f"
      }
    },
    {
      "cell_type": "code",
      "source": [
        "t_image_glcm=feature_extractor(test_image)"
      ],
      "metadata": {
        "id": "gMIMx1NSpeJP"
      },
      "execution_count": 68,
      "outputs": []
    },
    {
      "cell_type": "code",
      "source": [
        "t_image_glcm.shape"
      ],
      "metadata": {
        "colab": {
          "base_uri": "https://localhost:8080/"
        },
        "id": "6E_LgFi1cYYq",
        "outputId": "fc2e6094-9421-42a7-c195-b8d058148d86"
      },
      "execution_count": 70,
      "outputs": [
        {
          "output_type": "execute_result",
          "data": {
            "text/plain": [
              "(6340, 32)"
            ]
          },
          "metadata": {},
          "execution_count": 70
        }
      ]
    },
    {
      "cell_type": "markdown",
      "source": [
        "Color hist feature "
      ],
      "metadata": {
        "id": "lw9M3q82psi-"
      }
    },
    {
      "cell_type": "code",
      "source": [
        "t_hist=[]\n",
        "\n",
        "#hu_features_test = []\n",
        "for directory_path in sorted (glob.glob(\"/content/drive/MyDrive/testX/*\")):\n",
        "    test_label = directory_path.split(\"/\")[-1]\n",
        "    print(test_label)\n",
        "    #test_image_ID.append(test_label)#dont appened \n",
        "for directory_path in sorted (glob.glob(\"/content/drive/MyDrive/testX/\")):\n",
        "    for img_path in sorted (glob.glob(os.path.join(directory_path, \"*.jpg\"))):\n",
        "       \n",
        "        img33 = cv2.imread(img_path,cv2.COLOR_BGR2RGB) #Reading color images\n",
        "        img33 = cv2.resize(img33, (SIZE, SIZE)) #Resize images\n",
        "        img33=hist_features(img33) #call the function\n",
        "        t_hist.append(img33)\n",
        "        \n",
        "       \n",
        "         #call the function\n",
        "        \n",
        "t_hist=np.array(t_hist)\n"
      ],
      "metadata": {
        "id": "_ChPPzBsprVL"
      },
      "execution_count": null,
      "outputs": []
    },
    {
      "cell_type": "markdown",
      "source": [
        "combining GLCM< LBP and RGB hist"
      ],
      "metadata": {
        "id": "3c_hGH6ppudP"
      }
    },
    {
      "cell_type": "code",
      "source": [
        "train_feature_final=np.concatenate((train_hist,train_feature_glcm,train_images_lbp),axis=1)\n",
        "test_feature_final=np.concatenate((t_hist,t_image_glcm,t_lbp),axis=1)"
      ],
      "metadata": {
        "id": "RGMWYwU9puA2"
      },
      "execution_count": 71,
      "outputs": []
    },
    {
      "cell_type": "code",
      "source": [
        "prediction_rf = pipe2.predict(test_feature_final)"
      ],
      "metadata": {
        "colab": {
          "base_uri": "https://localhost:8080/",
          "height": 325
        },
        "id": "cWP43CxOhXX7",
        "outputId": "51084a8b-fbb4-4c42-e642-b91ad6e33025"
      },
      "execution_count": 94,
      "outputs": [
        {
          "output_type": "error",
          "ename": "ValueError",
          "evalue": "ignored",
          "traceback": [
            "\u001b[0;31m---------------------------------------------------------------------------\u001b[0m",
            "\u001b[0;31mValueError\u001b[0m                                Traceback (most recent call last)",
            "\u001b[0;32m<ipython-input-94-1da952773f0c>\u001b[0m in \u001b[0;36m<module>\u001b[0;34m\u001b[0m\n\u001b[0;32m----> 1\u001b[0;31m \u001b[0mprediction_rf\u001b[0m \u001b[0;34m=\u001b[0m \u001b[0mpipe2\u001b[0m\u001b[0;34m.\u001b[0m\u001b[0mpredict\u001b[0m\u001b[0;34m(\u001b[0m\u001b[0mtest_feature_final\u001b[0m\u001b[0;34m)\u001b[0m\u001b[0;34m\u001b[0m\u001b[0;34m\u001b[0m\u001b[0m\n\u001b[0m",
            "\u001b[0;32m/usr/local/lib/python3.7/dist-packages/sklearn/utils/metaestimators.py\u001b[0m in \u001b[0;36m<lambda>\u001b[0;34m(*args, **kwargs)\u001b[0m\n\u001b[1;32m    111\u001b[0m \u001b[0;34m\u001b[0m\u001b[0m\n\u001b[1;32m    112\u001b[0m             \u001b[0;31m# lambda, but not partial, allows help() to work with update_wrapper\u001b[0m\u001b[0;34m\u001b[0m\u001b[0;34m\u001b[0m\u001b[0;34m\u001b[0m\u001b[0m\n\u001b[0;32m--> 113\u001b[0;31m             \u001b[0mout\u001b[0m \u001b[0;34m=\u001b[0m \u001b[0;32mlambda\u001b[0m \u001b[0;34m*\u001b[0m\u001b[0margs\u001b[0m\u001b[0;34m,\u001b[0m \u001b[0;34m**\u001b[0m\u001b[0mkwargs\u001b[0m\u001b[0;34m:\u001b[0m \u001b[0mself\u001b[0m\u001b[0;34m.\u001b[0m\u001b[0mfn\u001b[0m\u001b[0;34m(\u001b[0m\u001b[0mobj\u001b[0m\u001b[0;34m,\u001b[0m \u001b[0;34m*\u001b[0m\u001b[0margs\u001b[0m\u001b[0;34m,\u001b[0m \u001b[0;34m**\u001b[0m\u001b[0mkwargs\u001b[0m\u001b[0;34m)\u001b[0m  \u001b[0;31m# noqa\u001b[0m\u001b[0;34m\u001b[0m\u001b[0;34m\u001b[0m\u001b[0m\n\u001b[0m\u001b[1;32m    114\u001b[0m         \u001b[0;32melse\u001b[0m\u001b[0;34m:\u001b[0m\u001b[0;34m\u001b[0m\u001b[0;34m\u001b[0m\u001b[0m\n\u001b[1;32m    115\u001b[0m \u001b[0;34m\u001b[0m\u001b[0m\n",
            "\u001b[0;32m/usr/local/lib/python3.7/dist-packages/sklearn/pipeline.py\u001b[0m in \u001b[0;36mpredict\u001b[0;34m(self, X, **predict_params)\u001b[0m\n\u001b[1;32m    467\u001b[0m         \u001b[0mXt\u001b[0m \u001b[0;34m=\u001b[0m \u001b[0mX\u001b[0m\u001b[0;34m\u001b[0m\u001b[0;34m\u001b[0m\u001b[0m\n\u001b[1;32m    468\u001b[0m         \u001b[0;32mfor\u001b[0m \u001b[0m_\u001b[0m\u001b[0;34m,\u001b[0m \u001b[0mname\u001b[0m\u001b[0;34m,\u001b[0m \u001b[0mtransform\u001b[0m \u001b[0;32min\u001b[0m \u001b[0mself\u001b[0m\u001b[0;34m.\u001b[0m\u001b[0m_iter\u001b[0m\u001b[0;34m(\u001b[0m\u001b[0mwith_final\u001b[0m\u001b[0;34m=\u001b[0m\u001b[0;32mFalse\u001b[0m\u001b[0;34m)\u001b[0m\u001b[0;34m:\u001b[0m\u001b[0;34m\u001b[0m\u001b[0;34m\u001b[0m\u001b[0m\n\u001b[0;32m--> 469\u001b[0;31m             \u001b[0mXt\u001b[0m \u001b[0;34m=\u001b[0m \u001b[0mtransform\u001b[0m\u001b[0;34m.\u001b[0m\u001b[0mtransform\u001b[0m\u001b[0;34m(\u001b[0m\u001b[0mXt\u001b[0m\u001b[0;34m)\u001b[0m\u001b[0;34m\u001b[0m\u001b[0;34m\u001b[0m\u001b[0m\n\u001b[0m\u001b[1;32m    470\u001b[0m         \u001b[0;32mreturn\u001b[0m \u001b[0mself\u001b[0m\u001b[0;34m.\u001b[0m\u001b[0msteps\u001b[0m\u001b[0;34m[\u001b[0m\u001b[0;34m-\u001b[0m\u001b[0;36m1\u001b[0m\u001b[0;34m]\u001b[0m\u001b[0;34m[\u001b[0m\u001b[0;36m1\u001b[0m\u001b[0;34m]\u001b[0m\u001b[0;34m.\u001b[0m\u001b[0mpredict\u001b[0m\u001b[0;34m(\u001b[0m\u001b[0mXt\u001b[0m\u001b[0;34m,\u001b[0m \u001b[0;34m**\u001b[0m\u001b[0mpredict_params\u001b[0m\u001b[0;34m)\u001b[0m\u001b[0;34m\u001b[0m\u001b[0;34m\u001b[0m\u001b[0m\n\u001b[1;32m    471\u001b[0m \u001b[0;34m\u001b[0m\u001b[0m\n",
            "\u001b[0;32m/usr/local/lib/python3.7/dist-packages/sklearn/preprocessing/_data.py\u001b[0m in \u001b[0;36mtransform\u001b[0;34m(self, X, copy)\u001b[0m\n\u001b[1;32m    978\u001b[0m             \u001b[0mestimator\u001b[0m\u001b[0;34m=\u001b[0m\u001b[0mself\u001b[0m\u001b[0;34m,\u001b[0m\u001b[0;34m\u001b[0m\u001b[0;34m\u001b[0m\u001b[0m\n\u001b[1;32m    979\u001b[0m             \u001b[0mdtype\u001b[0m\u001b[0;34m=\u001b[0m\u001b[0mFLOAT_DTYPES\u001b[0m\u001b[0;34m,\u001b[0m\u001b[0;34m\u001b[0m\u001b[0;34m\u001b[0m\u001b[0m\n\u001b[0;32m--> 980\u001b[0;31m             \u001b[0mforce_all_finite\u001b[0m\u001b[0;34m=\u001b[0m\u001b[0;34m\"allow-nan\"\u001b[0m\u001b[0;34m,\u001b[0m\u001b[0;34m\u001b[0m\u001b[0;34m\u001b[0m\u001b[0m\n\u001b[0m\u001b[1;32m    981\u001b[0m         )\n\u001b[1;32m    982\u001b[0m \u001b[0;34m\u001b[0m\u001b[0m\n",
            "\u001b[0;32m/usr/local/lib/python3.7/dist-packages/sklearn/base.py\u001b[0m in \u001b[0;36m_validate_data\u001b[0;34m(self, X, y, reset, validate_separately, **check_params)\u001b[0m\n\u001b[1;32m    583\u001b[0m \u001b[0;34m\u001b[0m\u001b[0m\n\u001b[1;32m    584\u001b[0m         \u001b[0;32mif\u001b[0m \u001b[0;32mnot\u001b[0m \u001b[0mno_val_X\u001b[0m \u001b[0;32mand\u001b[0m \u001b[0mcheck_params\u001b[0m\u001b[0;34m.\u001b[0m\u001b[0mget\u001b[0m\u001b[0;34m(\u001b[0m\u001b[0;34m\"ensure_2d\"\u001b[0m\u001b[0;34m,\u001b[0m \u001b[0;32mTrue\u001b[0m\u001b[0;34m)\u001b[0m\u001b[0;34m:\u001b[0m\u001b[0;34m\u001b[0m\u001b[0;34m\u001b[0m\u001b[0m\n\u001b[0;32m--> 585\u001b[0;31m             \u001b[0mself\u001b[0m\u001b[0;34m.\u001b[0m\u001b[0m_check_n_features\u001b[0m\u001b[0;34m(\u001b[0m\u001b[0mX\u001b[0m\u001b[0;34m,\u001b[0m \u001b[0mreset\u001b[0m\u001b[0;34m=\u001b[0m\u001b[0mreset\u001b[0m\u001b[0;34m)\u001b[0m\u001b[0;34m\u001b[0m\u001b[0;34m\u001b[0m\u001b[0m\n\u001b[0m\u001b[1;32m    586\u001b[0m \u001b[0;34m\u001b[0m\u001b[0m\n\u001b[1;32m    587\u001b[0m         \u001b[0;32mreturn\u001b[0m \u001b[0mout\u001b[0m\u001b[0;34m\u001b[0m\u001b[0;34m\u001b[0m\u001b[0m\n",
            "\u001b[0;32m/usr/local/lib/python3.7/dist-packages/sklearn/base.py\u001b[0m in \u001b[0;36m_check_n_features\u001b[0;34m(self, X, reset)\u001b[0m\n\u001b[1;32m    399\u001b[0m         \u001b[0;32mif\u001b[0m \u001b[0mn_features\u001b[0m \u001b[0;34m!=\u001b[0m \u001b[0mself\u001b[0m\u001b[0;34m.\u001b[0m\u001b[0mn_features_in_\u001b[0m\u001b[0;34m:\u001b[0m\u001b[0;34m\u001b[0m\u001b[0;34m\u001b[0m\u001b[0m\n\u001b[1;32m    400\u001b[0m             raise ValueError(\n\u001b[0;32m--> 401\u001b[0;31m                 \u001b[0;34mf\"X has {n_features} features, but {self.__class__.__name__} \"\u001b[0m\u001b[0;34m\u001b[0m\u001b[0;34m\u001b[0m\u001b[0m\n\u001b[0m\u001b[1;32m    402\u001b[0m                 \u001b[0;34mf\"is expecting {self.n_features_in_} features as input.\"\u001b[0m\u001b[0;34m\u001b[0m\u001b[0;34m\u001b[0m\u001b[0m\n\u001b[1;32m    403\u001b[0m             )\n",
            "\u001b[0;31mValueError\u001b[0m: X has 826 features, but StandardScaler is expecting 1082 features as input."
          ]
        }
      ]
    },
    {
      "cell_type": "markdown",
      "source": [
        "lightGBM"
      ],
      "metadata": {
        "id": "f3aZhz8arWuv"
      }
    },
    {
      "cell_type": "code",
      "source": [
        "scaler = StandardScaler()\n",
        "train_scaled = scaler.fit_transform(train_feature_final)\n",
        "test_scaled = scaler.transform(test_feature_final)\n",
        "d_train = lgb.Dataset(train_scaled, label=train_labels_encoded)"
      ],
      "metadata": {
        "id": "6pE_nMonp062"
      },
      "execution_count": null,
      "outputs": []
    },
    {
      "cell_type": "code",
      "source": [
        "lgbm_params = {'learning_rate':0.05, 'boosting_type':'gbdt', #Sometimes dart gives better accuracy. gbdt means gradient boosting.\n",
        "              'objective':'binary',\n",
        "              'metric':['auc', 'binary_logloss'],\n",
        "              'num_leaves':100, # optimizing this avoids overfitting. 50 to 100\n",
        "              'max_depth':10} #10 may be appropriate"
      ],
      "metadata": {
        "id": "xoYVWFLer4ud"
      },
      "execution_count": null,
      "outputs": []
    },
    {
      "cell_type": "code",
      "source": [
        "clf = lgb.train(lgbm_params, d_train, 70) #50 iterations. Increase iterations for small learning rates. eg if learning grate = 0.005, we may need 500 iterations.\n",
        "prediction_lgb=clf.predict(test_scaled)\n",
        "#convert the probabilities into binary values 0/1 for classification\n",
        "for i in range(0, test_scaled.shape[0]):\n",
        "    if prediction_lgb[i]>=.5: # setting threshold to 0.5\n",
        "       prediction_lgb[i]=1\n",
        "    else:  \n",
        "       prediction_lgb[i]=0"
      ],
      "metadata": {
        "id": "7QGsRP0dsAMy"
      },
      "execution_count": null,
      "outputs": []
    },
    {
      "cell_type": "code",
      "source": [
        "len(test_image_ID)"
      ],
      "metadata": {
        "id": "AvW21vcasdSx"
      },
      "execution_count": null,
      "outputs": []
    },
    {
      "cell_type": "code",
      "source": [
        "test_image_ID"
      ],
      "metadata": {
        "id": "yoIohZw3s6Ff"
      },
      "execution_count": null,
      "outputs": []
    },
    {
      "cell_type": "code",
      "source": [
        "prediction_lgb.shape"
      ],
      "metadata": {
        "id": "dUuuunRCsNTC"
      },
      "execution_count": null,
      "outputs": []
    },
    {
      "cell_type": "code",
      "source": [
        "res = pd.DataFrame(prediction_lgb)\n",
        "res.index = test_image_ID # its important for comparison\n",
        "res.columns = [\"prediction\"]\n",
        "res.to_csv(\"prediction_binary.csv\")\n"
      ],
      "metadata": {
        "id": "S-3LFSNBsDvE"
      },
      "execution_count": null,
      "outputs": []
    }
  ]
}