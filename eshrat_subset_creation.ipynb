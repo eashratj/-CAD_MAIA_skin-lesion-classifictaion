{
  "nbformat": 4,
  "nbformat_minor": 0,
  "metadata": {
    "colab": {
      "provenance": [],
      "include_colab_link": true
    },
    "kernelspec": {
      "name": "python3",
      "display_name": "Python 3"
    },
    "language_info": {
      "name": "python"
    }
  },
  "cells": [
    {
      "cell_type": "markdown",
      "metadata": {
        "id": "view-in-github",
        "colab_type": "text"
      },
      "source": [
        "<a href=\"https://colab.research.google.com/github/workwithjahan/-CAD_MAIA_skin-lesion-classifictaion/blob/main/eshrat_subset_creation.ipynb\" target=\"_parent\"><img src=\"https://colab.research.google.com/assets/colab-badge.svg\" alt=\"Open In Colab\"/></a>"
      ]
    },
    {
      "cell_type": "markdown",
      "source": [
        "Select set of images for train and test"
      ],
      "metadata": {
        "id": "w9jdbr1N-O5N"
      }
    },
    {
      "cell_type": "code",
      "execution_count": 2,
      "metadata": {
        "id": "kdSLfsWh-MPU"
      },
      "outputs": [],
      "source": [
        "import os\n",
        "import io\n",
        "import shutil\n",
        "import glob\n",
        "import random\n",
        "from skimage import io\n",
        "\n"
      ]
    },
    {
      "cell_type": "code",
      "source": [
        "import random as random"
      ],
      "metadata": {
        "id": "E1Y73mLmKTEn"
      },
      "execution_count": 4,
      "outputs": []
    },
    {
      "cell_type": "code",
      "source": [
        "from google.colab import drive\n",
        "drive.mount('/content/drive')"
      ],
      "metadata": {
        "colab": {
          "base_uri": "https://localhost:8080/"
        },
        "id": "OZEUfzJZdq1_",
        "outputId": "1d7e1459-c237-47be-c68f-ac8ca1585a8f"
      },
      "execution_count": 3,
      "outputs": [
        {
          "output_type": "stream",
          "name": "stdout",
          "text": [
            "Mounted at /content/drive\n"
          ]
        }
      ]
    },
    {
      "cell_type": "code",
      "source": [
        "'''m = 70\n",
        "n = 70\n",
        "\n",
        "src_dir_nevus = '/content/drive/MyDrive/dataset/Binary/binary_train/nevus/' \n",
        "dst_dir_nevus = '/content/drive/MyDrive/dataset/sub_set/train/nevus/'\n",
        "\n",
        "src_dir_other = '/content/drive/MyDrive/dataset/Binary/binary_train/others/others/'  \n",
        "dst_dir_other = '/content/drive/MyDrive/dataset/sub_set/train/others/'\n",
        "\n",
        "src_val_nevus = '/content/drive/MyDrive/dataset/Binary/binary_val/nevus/'\n",
        "dst_val_nevus = '/content/drive/MyDrive/dataset/sub_set/val/nevus/'\n",
        "\n",
        "src_val_other = '/content/drive/MyDrive/dataset/Binary/binary_val/others/'\n",
        "dst_val_other = '/content/drive/MyDrive/dataset/sub_val/val/others/'\n",
        "\n",
        "\n",
        "file_list_t_n = os.listdir(src_dir_nevus)\n",
        "file_list_t_o = os.listdir(src_dir_other)\n",
        "\n",
        "\n",
        "\n",
        "for i in range(m):\n",
        "  for j in range(n):\n",
        "      tn = random.choice(file_list_t_n)\n",
        "      to = random.choice(file_list_t_o)\n",
        "      shutil.copy(src_dir_nevus + tn, dst_dir_nevus + \"/\" + tn)\n",
        "      shutil.copy(src_dir_other + to, dst_dir_other + \"/\" + to)\n",
        "    \n",
        "'''\n",
        "  "
      ],
      "metadata": {
        "id": "jjHwttKP-VVg"
      },
      "execution_count": null,
      "outputs": []
    },
    {
      "cell_type": "code",
      "source": [
        "src_dir_nevus = '/content/drive/MyDrive/dataset/Binary/binary_train/nevus/' \n",
        "dst_dir_nevus = '/content/drive/MyDrive/dataset/sub_set/train/nevus/'\n",
        "\n",
        "src_dir_other = '/content/drive/MyDrive/dataset/Binary/binary_train/others/others/'  \n",
        "dst_dir_other = '/content/drive/MyDrive/dataset/sub_set/train/others/'\n"
      ],
      "metadata": {
        "id": "a2kwR0oDuNyN"
      },
      "execution_count": null,
      "outputs": []
    },
    {
      "cell_type": "code",
      "source": [
        "src_val_nevus = '/content/drive/MyDrive/dataset(1)/Binary/binary_val/NEVUS'\n",
        "dst_val_nevus = '/content/drive/MyDrive/dataset/sub_set/val/nevus'\n",
        "\n",
        "src_val_other = '/content/drive/MyDrive/dataset/Binary/binary_val/others/'\n",
        "dst_val_other = '/content/drive/MyDrive/dataset/sub_set/val/others'"
      ],
      "metadata": {
        "id": "tZgAHQT9wqie"
      },
      "execution_count": null,
      "outputs": []
    },
    {
      "cell_type": "code",
      "source": [
        "#file_list_v_n = os.listdir(src_val_nevus)\n",
        "'file_list_v_o = os.listdir(src_val_other)\n"
      ],
      "metadata": {
        "id": "15WvJUsA1Lw6"
      },
      "execution_count": null,
      "outputs": []
    },
    {
      "cell_type": "code",
      "source": [
        "'''a = 35\n",
        "b = 35\n",
        "\n",
        "for i in range(a):\n",
        "  for j in range(b):\n",
        "      #vn = random.choice(file_list_v_n)\n",
        "      vo = random.choice(file_list_v_o)\n",
        "      #shutil.copy(src_val_n + vn, dst_val_nevus + \"/\" + vn)\n",
        "      shutil.copy(src_val_other + vo, dst_val_other + \"/\" + vo)\n",
        "\n"
      ],
      "metadata": {
        "id": "e41XFzXXT4QK"
      },
      "execution_count": null,
      "outputs": []
    },
    {
      "cell_type": "code",
      "source": [
        "file_list_v_n = os.listdir(src_val_nevus)"
      ],
      "metadata": {
        "id": "cYAha6UN65tL"
      },
      "execution_count": null,
      "outputs": []
    },
    {
      "cell_type": "code",
      "source": [
        "src_val_nevus = '/content/drive/MyDrive/test_nevus/'\n",
        "dst_val_nevus = '/content/drive/MyDrive/dataset/sub_set/val/nevus/'\n",
        "\n",
        "file_list_v_n = os.listdir(src_val_nevus)\n",
        "a = 35\n",
        "b = 35\n",
        "\n",
        "for i in range(a):\n",
        "  for j in range(b):\n",
        "      vn = random.choice(file_list_v_n)\n",
        "      #vo = random.choice(file_list_v_o)\n",
        "      shutil.copy(src_val_nevus + vn, dst_val_nevus + \"/\" + vn)\n",
        "      #shutil.copy(src_val_other + vo, dst_val_other + \"/\" + vo)\n"
      ],
      "metadata": {
        "id": "ZIMFoa3O67h7"
      },
      "execution_count": null,
      "outputs": []
    },
    {
      "cell_type": "code",
      "source": [
        "import os\n",
        "\n",
        "lst = os.listdir('/content/drive/MyDrive/dataset/sub_set/val/nevus/') # your directory path\n",
        "number_files = len(lst)\n",
        "print (number_files)"
      ],
      "metadata": {
        "id": "lWYu_r6FV91g",
        "colab": {
          "base_uri": "https://localhost:8080/"
        },
        "outputId": "60280dc2-7d03-41d7-c96b-864c214820db"
      },
      "execution_count": null,
      "outputs": [
        {
          "output_type": "stream",
          "name": "stdout",
          "text": [
            "895\n"
          ]
        }
      ]
    },
    {
      "cell_type": "code",
      "source": [
        "import os\n",
        "\n",
        "lst = os.listdir('/content/drive/MyDrive/dataset/sub_set/val/others/') # your directory path\n",
        "number_files = len(lst)\n",
        "print (number_files)"
      ],
      "metadata": {
        "colab": {
          "base_uri": "https://localhost:8080/"
        },
        "id": "-HkH5I0gQmhu",
        "outputId": "14aa5d00-dd82-46f6-849b-b3b81110ed17"
      },
      "execution_count": null,
      "outputs": [
        {
          "output_type": "stream",
          "name": "stdout",
          "text": [
            "1059\n"
          ]
        }
      ]
    },
    {
      "cell_type": "code",
      "source": [
        "import os\n",
        "\n",
        "lst = os.listdir('/content/drive/MyDrive/dataset/sub_set/train/nevus/') # your directory path\n",
        "number_files = len(lst)\n",
        "print (number_files)"
      ],
      "metadata": {
        "colab": {
          "base_uri": "https://localhost:8080/"
        },
        "id": "pOpl3mfVQrfc",
        "outputId": "94943c86-5810-439e-e2dc-9eace97dc3e8"
      },
      "execution_count": null,
      "outputs": [
        {
          "output_type": "stream",
          "name": "stdout",
          "text": [
            "3614\n"
          ]
        }
      ]
    },
    {
      "cell_type": "code",
      "source": [
        "import os\n",
        "\n",
        "lst = os.listdir('/content/drive/MyDrive/dataset/hair_removed_9_kernel/train/bcc') # your directory path\n",
        "number_files = len(lst)\n",
        "print (number_files)"
      ],
      "metadata": {
        "colab": {
          "base_uri": "https://localhost:8080/"
        },
        "id": "auJhkdS0QrcN",
        "outputId": "ccec0c68-8950-4fb9-92d9-7b957a49b91f"
      },
      "execution_count": 10,
      "outputs": [
        {
          "output_type": "stream",
          "name": "stdout",
          "text": [
            "528\n"
          ]
        }
      ]
    },
    {
      "cell_type": "code",
      "source": [
        "from matplotlib import pyplot as plt \n",
        "from pylab import * \n",
        "fig = plt.figure(figsize=(10, 10)) \n",
        "ax1 = fig.add_subplot(2,2,1)\n",
        "img = io.imread('/content/drive/MyDrive/dataset//nevus/nev00001.jpg')\n",
        "plt.imshow(img, cmap='gray')\n",
        "\n"
      ],
      "metadata": {
        "id": "izoQdXhzJOI-"
      },
      "execution_count": null,
      "outputs": []
    }
  ]
}